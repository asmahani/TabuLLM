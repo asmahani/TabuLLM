{
 "cells": [
  {
   "cell_type": "code",
   "execution_count": 3,
   "metadata": {},
   "outputs": [
    {
     "name": "stderr",
     "output_type": "stream",
     "text": [
      "c:\\Users\\alire\\anaconda3\\envs\\devTEFE\\Lib\\site-packages\\huggingface_hub\\file_download.py:1132: FutureWarning: `resume_download` is deprecated and will be removed in version 1.0.0. Downloads always resume when possible. If you want to force a new download, use `force_download=True`.\n",
      "  warnings.warn(\n"
     ]
    },
    {
     "name": "stdout",
     "output_type": "stream",
     "text": [
      "Shape of embeddings: (830, 384)\n"
     ]
    }
   ],
   "source": [
    "import pandas as pd\n",
    "from TabuLLM.embed import TextColumnTransformer\n",
    "df = pd.read_csv('../../data/raw.csv')\n",
    "embeddings = TextColumnTransformer(\n",
    "    model_type = 'st'\n",
    ").fit_transform(df.loc[:, ['diagnoses']])\n",
    "print(f'Shape of embeddings: {embeddings.shape}')"
   ]
  },
  {
   "cell_type": "code",
   "execution_count": 4,
   "metadata": {},
   "outputs": [
    {
     "data": {
      "text/plain": [
       "Index(['is_female', 'age', 'height', 'weight', 'optime', 'diagnoses',\n",
       "       'aki_severity', 'cr_ratio_log'],\n",
       "      dtype='object')"
      ]
     },
     "execution_count": 4,
     "metadata": {},
     "output_type": "execute_result"
    }
   ],
   "source": [
    "df.columns"
   ]
  },
  {
   "cell_type": "code",
   "execution_count": 7,
   "metadata": {},
   "outputs": [
    {
     "name": "stdout",
     "output_type": "stream",
     "text": [
      "Shape of risk_score: (830, 1)\n",
      "Min/Max of risk_score: (0.16202779489376795, 0.7301559924381549)\n",
      "Min/Max of outcome: (-0.6343066805370119, 2.188640833644828)\n"
     ]
    }
   ],
   "source": [
    "from TabuLLM.compress import CompressRegressor\n",
    "risk_score = CompressRegressor(\n",
    "    nx = 100\n",
    "    , ncv = 5\n",
    "    , n_neighbors = 50\n",
    ").fit_transform(embeddings, df['cr_ratio_log'])\n",
    "print(f'Shape of risk_score: {risk_score.shape}')\n",
    "print(f'Min/Max of risk_score: {risk_score.min(), risk_score.max()}')\n",
    "print(f'Min/Max of outcome: {df[\"cr_ratio_log\"].min(), df[\"cr_ratio_log\"].max()}')"
   ]
  },
  {
   "cell_type": "code",
   "execution_count": null,
   "metadata": {},
   "outputs": [],
   "source": []
  }
 ],
 "metadata": {
  "kernelspec": {
   "display_name": "devTEFE",
   "language": "python",
   "name": "python3"
  },
  "language_info": {
   "codemirror_mode": {
    "name": "ipython",
    "version": 3
   },
   "file_extension": ".py",
   "mimetype": "text/x-python",
   "name": "python",
   "nbconvert_exporter": "python",
   "pygments_lexer": "ipython3",
   "version": "3.11.9"
  }
 },
 "nbformat": 4,
 "nbformat_minor": 2
}
