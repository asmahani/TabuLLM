{
 "cells": [
  {
   "cell_type": "code",
   "execution_count": 1,
   "metadata": {},
   "outputs": [
    {
     "name": "stderr",
     "output_type": "stream",
     "text": [
      "c:\\Users\\alire\\anaconda3\\envs\\devTEFE\\Lib\\site-packages\\sentence_transformers\\cross_encoder\\CrossEncoder.py:11: TqdmExperimentalWarning: Using `tqdm.autonotebook.tqdm` in notebook mode. Use `tqdm.tqdm` instead to force console mode (e.g. in jupyter console)\n",
      "  from tqdm.autonotebook import tqdm, trange\n",
      "c:\\Users\\alire\\anaconda3\\envs\\devTEFE\\Lib\\site-packages\\huggingface_hub\\file_download.py:1132: FutureWarning: `resume_download` is deprecated and will be removed in version 1.0.0. Downloads always resume when possible. If you want to force a new download, use `force_download=True`.\n",
      "  warnings.warn(\n"
     ]
    },
    {
     "name": "stdout",
     "output_type": "stream",
     "text": [
      "Shape of embeddings: (830, 384)\n"
     ]
    }
   ],
   "source": [
    "import pandas as pd\n",
    "from TabuLLM.embed import TextColumnTransformer\n",
    "df = pd.read_csv('../../data/raw.csv')\n",
    "embeddings = TextColumnTransformer(\n",
    "    model_type = 'st'\n",
    ").fit_transform(df.loc[:, ['diagnoses']])\n",
    "print(f'Shape of embeddings: {embeddings.shape}')"
   ]
  },
  {
   "cell_type": "code",
   "execution_count": 2,
   "metadata": {},
   "outputs": [],
   "source": [
    "features_baseline = ['is_female', 'age', 'height', 'weight', 'optime']\n",
    "features_embedding = [f'X_{i}' for i in range(embeddings.shape[1])]\n",
    "X = pd.concat([embeddings, df[features_baseline]], axis = 1)\n",
    "y = df['aki_severity']"
   ]
  },
  {
   "cell_type": "code",
   "execution_count": 3,
   "metadata": {},
   "outputs": [],
   "source": [
    "from sklearn.compose import ColumnTransformer\n",
    "from sklearn.linear_model import LogisticRegression\n",
    "from sklearn.pipeline import Pipeline\n",
    "from TabuLLM.compress import CompressClassifier, CompressClassifier_v2\n",
    "\n",
    "ct_embedding = ColumnTransformer([\n",
    "    ('baseline', 'passthrough', features_baseline)\n",
    "    , ('embedding', CompressClassifier(n_neighbors = 50), features_embedding)\n",
    "], remainder = 'drop')\n",
    "pipeline_embedding = Pipeline([\n",
    "    ('coltrans', ct_embedding)\n",
    "    , ('logit', LogisticRegression(penalty = None, solver = 'newton-cholesky', max_iter = 1000))\n",
    "])"
   ]
  },
  {
   "cell_type": "code",
   "execution_count": 4,
   "metadata": {},
   "outputs": [
    {
     "data": {
      "text/plain": [
       "dict_keys(['memory', 'steps', 'verbose', 'coltrans', 'logit', 'coltrans__n_jobs', 'coltrans__remainder', 'coltrans__sparse_threshold', 'coltrans__transformer_weights', 'coltrans__transformers', 'coltrans__verbose', 'coltrans__verbose_feature_names_out', 'coltrans__baseline', 'coltrans__embedding', 'coltrans__embedding__laplace', 'coltrans__embedding__logit', 'coltrans__embedding__ncv', 'coltrans__embedding__nx', 'logit__C', 'logit__class_weight', 'logit__dual', 'logit__fit_intercept', 'logit__intercept_scaling', 'logit__l1_ratio', 'logit__max_iter', 'logit__multi_class', 'logit__n_jobs', 'logit__penalty', 'logit__random_state', 'logit__solver', 'logit__tol', 'logit__verbose', 'logit__warm_start'])"
      ]
     },
     "execution_count": 4,
     "metadata": {},
     "output_type": "execute_result"
    }
   ],
   "source": [
    "pipeline_embedding.get_params().keys()"
   ]
  },
  {
   "cell_type": "code",
   "execution_count": 6,
   "metadata": {},
   "outputs": [],
   "source": [
    "from sklearn.neighbors import KNeighborsClassifier\n",
    "\n",
    "ct_embedding_v2 = ColumnTransformer([\n",
    "    ('baseline', 'passthrough', features_baseline)\n",
    "    , ('embedding', CompressClassifier_v2(estimator = KNeighborsClassifier(n_neighbors=50)), features_embedding)\n",
    "], remainder = 'drop')\n",
    "pipeline_embedding_v2 = Pipeline([\n",
    "    ('coltrans', ct_embedding_v2)\n",
    "    , ('logit', LogisticRegression(penalty = None, solver = 'newton-cholesky', max_iter = 1000))\n",
    "])"
   ]
  },
  {
   "cell_type": "code",
   "execution_count": 8,
   "metadata": {},
   "outputs": [
    {
     "data": {
      "text/plain": [
       "50"
      ]
     },
     "execution_count": 8,
     "metadata": {},
     "output_type": "execute_result"
    }
   ],
   "source": [
    "pipeline_embedding_v2.get_params()['coltrans__embedding__estimator__n_neighbors']"
   ]
  },
  {
   "cell_type": "code",
   "execution_count": null,
   "metadata": {},
   "outputs": [],
   "source": [
    "def make_pipeline(\n",
    "        features_baseline,\n",
    "        features_text,\n",
    "        features_embedding,\n",
    "        features_cluster,\n",
    "        learner_cluster = None,\n",
    "        learner_initial = None,\n",
    "        learner_final = None,\n",
    "        pre_embed = True,\n",
    "        do_cluster = True,\n",
    "        pre_cluster = False,\n",
    "        soft_cluster = True,\n",
    "):\n",
    "    pass\n"
   ]
  }
 ],
 "metadata": {
  "kernelspec": {
   "display_name": "devTEFE",
   "language": "python",
   "name": "python3"
  },
  "language_info": {
   "codemirror_mode": {
    "name": "ipython",
    "version": 3
   },
   "file_extension": ".py",
   "mimetype": "text/x-python",
   "name": "python",
   "nbconvert_exporter": "python",
   "pygments_lexer": "ipython3",
   "version": "3.11.9"
  }
 },
 "nbformat": 4,
 "nbformat_minor": 2
}
