{
 "cells": [
  {
   "cell_type": "code",
   "execution_count": 1,
   "metadata": {},
   "outputs": [
    {
     "name": "stdout",
     "output_type": "stream",
     "text": [
      "Example of diagnoses:\n",
      "155516. Cardiac conduit failure;090101. Common arterial trunk;110021. Cardiac arrest\n",
      "\n",
      "\n",
      "Example of operations:\n",
      "123610. Replacement of cardiac conduit;123452. Pacemaker system placement: biventricular\n",
      "\n"
     ]
    }
   ],
   "source": [
    "import pandas as pd\n",
    "df = pd.read_csv('../../data/raw.csv')\n",
    "print(f\"Example of diagnoses:\\n{df['diagnoses'][2]}\\n\\n\")\n",
    "print(f\"Example of operations:\\n{df['operations'][2]}\\n\")"
   ]
  },
  {
   "cell_type": "code",
   "execution_count": 14,
   "metadata": {},
   "outputs": [
    {
     "data": {
      "text/plain": [
       "['diagnoses: 155516. Cardiac conduit failure;090101. Common arterial trunk;110021. Cardiac arrest || operations: 123610. Replacement of cardiac conduit;123452. Pacemaker system placement: biventricular']"
      ]
     },
     "execution_count": 14,
     "metadata": {},
     "output_type": "execute_result"
    }
   ],
   "source": [
    "from TabuLLM.embed import TextColumnTransformer\n",
    "\n",
    "obj = TextColumnTransformer(\n",
    "    model_type = 'st'\n",
    "    , st_args = {\n",
    "        'model': 'sentence-transformers/all-MiniLM-L6-v2'\n",
    "    }\n",
    ")\n",
    "#X = obj.fit_transform(df.loc[:, ['diagnoses']])\n",
    "#print(X.shape)\n",
    "Xstr = obj.prep_X(df.loc[[2], ['diagnoses', 'operations']])\n",
    "Xstr#[:5]"
   ]
  }
 ],
 "metadata": {
  "kernelspec": {
   "display_name": "devTEFE",
   "language": "python",
   "name": "python3"
  },
  "language_info": {
   "codemirror_mode": {
    "name": "ipython",
    "version": 3
   },
   "file_extension": ".py",
   "mimetype": "text/x-python",
   "name": "python",
   "nbconvert_exporter": "python",
   "pygments_lexer": "ipython3",
   "version": "3.11.9"
  }
 },
 "nbformat": 4,
 "nbformat_minor": 2
}
