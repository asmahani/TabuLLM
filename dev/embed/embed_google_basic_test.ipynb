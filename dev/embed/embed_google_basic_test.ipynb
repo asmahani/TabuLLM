{
 "cells": [
  {
   "cell_type": "code",
   "execution_count": 6,
   "metadata": {},
   "outputs": [],
   "source": [
    "import os\n",
    "import pandas as pd\n",
    "from dotenv import load_dotenv\n",
    "load_dotenv()\n",
    "google_project_id = os.getenv('VERTEXAI_PROJECT')\n",
    "google_location = os.getenv('VERTEXAI_LOCATION')"
   ]
  },
  {
   "cell_type": "code",
   "execution_count": 9,
   "metadata": {},
   "outputs": [],
   "source": [
    "from TabuLLM.embed import TextColumnTransformer\n",
    "\n",
    "sample_df = pd.DataFrame({\n",
    "    'text': ['first sentence', 'second sentence', 'third sentence']\n",
    "})\n",
    "\n",
    "# !!Note: the call below will incur (small) charges on the GCP account!!\n",
    "X = TextColumnTransformer(\n",
    "    type = 'google', google_project_id = google_project_id\n",
    "    , google_location = google_location\n",
    ").fit_transform(sample_df)\n",
    "assert X.shape == (sample_df.shape[0], 768)"
   ]
  }
 ],
 "metadata": {
  "kernelspec": {
   "display_name": "devTEFE",
   "language": "python",
   "name": "python3"
  },
  "language_info": {
   "codemirror_mode": {
    "name": "ipython",
    "version": 3
   },
   "file_extension": ".py",
   "mimetype": "text/x-python",
   "name": "python",
   "nbconvert_exporter": "python",
   "pygments_lexer": "ipython3",
   "version": "3.11.9"
  }
 },
 "nbformat": 4,
 "nbformat_minor": 2
}
