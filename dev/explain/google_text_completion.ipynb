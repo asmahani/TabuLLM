{
 "cells": [
  {
   "cell_type": "markdown",
   "metadata": {},
   "source": [
    "- Model specifications: https://cloud.google.com/vertex-ai/generative-ai/docs/learn/models#gemini-1.5-pro\n",
    "- How to use the API: https://cloud.google.com/vertex-ai/generative-ai/docs/model-reference/inference#python-openai_2\n",
    "    - Examples: https://cloud.google.com/vertex-ai/generative-ai/docs/model-reference/inference#sample-requests\n",
    "- Pricing: https://cloud.google.com/vertex-ai/generative-ai/pricing"
   ]
  },
  {
   "cell_type": "code",
   "execution_count": 2,
   "metadata": {},
   "outputs": [
    {
     "name": "stderr",
     "output_type": "stream",
     "text": [
      "c:\\Users\\alire\\anaconda3\\envs\\devTEFE\\Lib\\site-packages\\huggingface_hub\\file_download.py:1132: FutureWarning: `resume_download` is deprecated and will be removed in version 1.0.0. Downloads always resume when possible. If you want to force a new download, use `force_download=True`.\n",
      "  warnings.warn(\n"
     ]
    }
   ],
   "source": [
    "import numpy as np\n",
    "import pandas as pd\n",
    "from TabuLLM.embed import TextColumnTransformer\n",
    "from TabuLLM.cluster import SphericalKMeans\n",
    "df = pd.read_csv('../../data/raw.csv')\n",
    "embeddings = TextColumnTransformer(\n",
    "    type = 'st'\n",
    "    , embedding_model_st = 'sentence-transformers/all-MiniLM-L6-v2'\n",
    ").fit_transform(df.loc[:, ['diagnoses']])\n",
    "n_clusters = 10\n",
    "cluster_labels = SphericalKMeans(n_clusters=n_clusters).fit_predict(embeddings)\n",
    "#assert np.array_equal(np.unique(cluster_labels), np.arange(0, n_clusters + 0))"
   ]
  },
  {
   "cell_type": "code",
   "execution_count": 6,
   "metadata": {},
   "outputs": [],
   "source": [
    "from TabuLLM.explain import generate_prompt\n",
    "preamble = '''\n",
    "The following is a list of 830 pediatric cardiopulmonary bypass (CPB) surgeries. Text lines represent procedures performed on each patient. \n",
    "These CPB surgeries have been grouped into 10 groups, according to their planned procedures. \n",
    "Please suggest group labels that are representative of their members, and also distinct from each other:\n",
    "'''\n",
    "prompt = generate_prompt(\n",
    "    text_list = list(df['diagnoses'])\n",
    "    , cluster_labels = cluster_labels\n",
    "    , preamble = preamble\n",
    ")"
   ]
  },
  {
   "cell_type": "code",
   "execution_count": 7,
   "metadata": {},
   "outputs": [
    {
     "name": "stdout",
     "output_type": "stream",
     "text": [
      "## Suggested Group Labels for Pediatric CPB Surgeries:\n",
      "\n",
      "Here are some potential labels for the 10 groups, aiming for clarity and distinction:\n",
      "\n",
      "**Group 1: Complex Right Ventricular Outflow Tract Obstruction**\n",
      "* This group features a variety of conditions primarily affecting the right ventricle's outflow, including pulmonary atresia, double outlet right ventricle, and conduit failures. It also includes some associated anomalies like TGA and MAPCAs.\n",
      "\n",
      "**Group 2: Transposition of the Great Arteries with Concordant Atrioventricular Connections**\n",
      "* This group is well-defined and focuses on a specific type of transposition with intact ventricular septum, occasionally featuring additional anomalies like pulmonary stenosis and tricuspid atresia.\n",
      "\n",
      "**Group 3: Valve Defects and Obstructions**\n",
      "* This group is broad, encompassing congenital and acquired valve abnormalities, primarily affecting the aortic and mitral valves, with frequent occurrences of regurgitation, stenosis, and prolapse.\n",
      "\n",
      "**Group 4: Atrioventricular Septal Defects and Related Complexities**\n",
      "* This group centers around AVSDs in their various forms (complete, partial, isolated ventricular communication), including complications like valve regurgitation and ventricular imbalance, as well as associated anomalies like double outlet right ventricle.\n",
      "\n",
      "**Group 5: Tetralogy of Fallot and Related Variants**\n",
      "* This group focuses on Tetralogy of Fallot, both in its classic form and with variations like pulmonary atresia and absent pulmonary valve syndrome.\n",
      "\n",
      "**Group 6: Aortic Arch and Subaortic Obstructions**\n",
      "* This group includes conditions affecting the aortic arch (coarctation, hypoplasia, interrupted arch), as well as subaortic stenosis, emphasizing the shared theme of obstruction in the aortic outflow tract.\n",
      "\n",
      "**Group 7: Atrial Septal Defects and Associated Anomalies**\n",
      "* This group primarily consists of secundum ASDs with occasional variations like sinus venosus ASDs, highlighting the shared characteristic of atrial septal defects and associated conditions.\n",
      "\n",
      "**Group 8: Anomalous Pulmonary Venous Connections and Vascular Rings**\n",
      "* This group focuses on different types of anomalous pulmonary venous connections (Scimitar, supracardiac, infracardiac, mixed), as well as vascular rings, demonstrating the shared theme of abnormal pulmonary venous drainage and potential vascular constrictions.\n",
      "\n",
      "**Group 9: Cardiomyopathies and Hypoplastic Left Heart Syndrome**\n",
      "* This group encompasses various types of cardiomyopathies (dilated, hypertrophic, restrictive), as well as hypoplastic left heart syndrome, uniting these conditions under the umbrella of structural heart disease.\n",
      "\n",
      "**Group 10: Ventricular Septal Defects and Related Anomalies**\n",
      "* This group features various types of ventricular septal defects (perimembranous, outlet, trabecular muscular, doubly committed juxta-arterial), highlighting the shared characteristic of ventricular septal defects with associated anomalies. \n",
      "\n",
      "These labels strive to be descriptive, specific, and distinctive while reflecting the underlying pathophysiology and complexity of each group. \n",
      "\n"
     ]
    }
   ],
   "source": [
    "import vertexai\n",
    "from vertexai.generative_models import GenerativeModel\n",
    "\n",
    "# TODO(developer): Update and un-comment below line\n",
    "import os\n",
    "from dotenv import load_dotenv\n",
    "load_dotenv()\n",
    "google_project_id = os.getenv('VERTEXAI_PROJECT')\n",
    "google_location = os.getenv('VERTEXAI_LOCATION')\n",
    "\n",
    "vertexai.init(project=google_project_id, location=google_location)\n",
    "\n",
    "model = GenerativeModel(\"gemini-1.5-flash-001\")\n",
    "\n",
    "response = model.generate_content(\n",
    "    #\"What's a good name for a flower shop that specializes in selling bouquets of dried flowers?\"\n",
    "    prompt\n",
    ")\n",
    "\n",
    "print(response.text)"
   ]
  },
  {
   "cell_type": "markdown",
   "metadata": {},
   "source": []
  }
 ],
 "metadata": {
  "kernelspec": {
   "display_name": "devTEFE",
   "language": "python",
   "name": "python3"
  },
  "language_info": {
   "codemirror_mode": {
    "name": "ipython",
    "version": 3
   },
   "file_extension": ".py",
   "mimetype": "text/x-python",
   "name": "python",
   "nbconvert_exporter": "python",
   "pygments_lexer": "ipython3",
   "version": "3.11.9"
  }
 },
 "nbformat": 4,
 "nbformat_minor": 2
}
