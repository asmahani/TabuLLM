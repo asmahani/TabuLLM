{
 "cells": [
  {
   "cell_type": "code",
   "execution_count": 1,
   "metadata": {},
   "outputs": [
    {
     "name": "stdout",
     "output_type": "stream",
     "text": [
      "Example of diagnoses:\n",
      "155516. Cardiac conduit failure;090101. Common arterial trunk;110021. Cardiac arrest\n",
      "\n",
      "\n",
      "Example of operations:\n",
      "123610. Replacement of cardiac conduit;123452. Pacemaker system placement: biventricular\n",
      "\n"
     ]
    }
   ],
   "source": [
    "import pandas as pd\n",
    "df = pd.read_csv('../../data/raw.csv')\n",
    "print(f\"Example of diagnoses:\\n{df['diagnoses'][2]}\\n\\n\")\n",
    "print(f\"Example of operations:\\n{df['operations'][2]}\\n\")"
   ]
  },
  {
   "cell_type": "code",
   "execution_count": 2,
   "metadata": {},
   "outputs": [
    {
     "name": "stderr",
     "output_type": "stream",
     "text": [
      "c:\\Users\\alire\\anaconda3\\envs\\devTEFE\\Lib\\site-packages\\sentence_transformers\\cross_encoder\\CrossEncoder.py:11: TqdmExperimentalWarning: Using `tqdm.autonotebook.tqdm` in notebook mode. Use `tqdm.tqdm` instead to force console mode (e.g. in jupyter console)\n",
      "  from tqdm.autonotebook import tqdm, trange\n",
      "c:\\Users\\alire\\anaconda3\\envs\\devTEFE\\Lib\\site-packages\\huggingface_hub\\file_download.py:1132: FutureWarning: `resume_download` is deprecated and will be removed in version 1.0.0. Downloads always resume when possible. If you want to force a new download, use `force_download=True`.\n",
      "  warnings.warn(\n"
     ]
    }
   ],
   "source": [
    "#text_fields = ['diagnoses', 'operations']\n",
    "text_fields = ['diagnoses']\n",
    "\n",
    "from langchain_huggingface import HuggingFaceEmbeddings\n",
    "obj_embed_langchain = HuggingFaceEmbeddings(model_name=\"sentence-transformers/all-MiniLM-L6-v2\")\n",
    "from TabuLLM.embed import TextColumnTransformer\n",
    "obj_embed_tabullm = TextColumnTransformer(obj_embed_langchain, prefix='X', colnames={'diagnoses': 'Diagnoses', 'operations': 'CPB Procedures'})\n",
    "X_embeddings = obj_embed_tabullm.fit_transform(df[text_fields])"
   ]
  },
  {
   "cell_type": "code",
   "execution_count": 3,
   "metadata": {},
   "outputs": [],
   "source": [
    "from TabuLLM.cluster import SphericalKMeans\n",
    "obj_sklearn = SphericalKMeans(n_clusters=10).fit(X_embeddings)\n",
    "X_labels = obj_sklearn.predict(X_embeddings)\n",
    "X_str = obj_embed_tabullm.prep_X(df[text_fields])"
   ]
  }
 ],
 "metadata": {
  "kernelspec": {
   "display_name": "devTEFE",
   "language": "python",
   "name": "python3"
  },
  "language_info": {
   "codemirror_mode": {
    "name": "ipython",
    "version": 3
   },
   "file_extension": ".py",
   "mimetype": "text/x-python",
   "name": "python",
   "nbconvert_exporter": "python",
   "pygments_lexer": "ipython3",
   "version": "3.11.9"
  }
 },
 "nbformat": 4,
 "nbformat_minor": 2
}
