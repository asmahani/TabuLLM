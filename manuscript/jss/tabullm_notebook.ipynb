{
 "cells": [
  {
   "cell_type": "code",
   "execution_count": 1,
   "metadata": {},
   "outputs": [
    {
     "name": "stdout",
     "output_type": "stream",
     "text": [
      "Example of diagnoses:\n",
      "155516. Cardiac conduit failure;090101. Common arterial trunk;110021. Cardiac arrest\n",
      "\n",
      "\n",
      "Example of operations:\n",
      "123610. Replacement of cardiac conduit;123452. Pacemaker system placement: biventricular\n",
      "\n"
     ]
    }
   ],
   "source": [
    "import pandas as pd\n",
    "df = pd.read_csv('../../data/raw.csv')\n",
    "print(f\"Example of diagnoses:\\n{df['diagnoses'][2]}\\n\\n\")\n",
    "print(f\"Example of operations:\\n{df['operations'][2]}\\n\")"
   ]
  },
  {
   "cell_type": "code",
   "execution_count": 2,
   "metadata": {},
   "outputs": [],
   "source": [
    "import os\n",
    "from openai import OpenAI\n",
    "from dotenv import load_dotenv\n",
    "load_dotenv()\n",
    "openai_api_key = os.getenv('OPENAI_API_KEY')\n",
    "client = OpenAI(api_key=openai_api_key)"
   ]
  },
  {
   "cell_type": "code",
   "execution_count": 3,
   "metadata": {},
   "outputs": [
    {
     "name": "stderr",
     "output_type": "stream",
     "text": [
      "c:\\Users\\alire\\anaconda3\\envs\\devTEFE\\Lib\\site-packages\\sentence_transformers\\cross_encoder\\CrossEncoder.py:11: TqdmExperimentalWarning: Using `tqdm.autonotebook.tqdm` in notebook mode. Use `tqdm.tqdm` instead to force console mode (e.g. in jupyter console)\n",
      "  from tqdm.autonotebook import tqdm, trange\n"
     ]
    }
   ],
   "source": [
    "from TabuLLM.embed import TextColumnTransformer\n",
    "obj = TextColumnTransformer(\n",
    "  model_type = 'openai',\n",
    "  openai_args = {\n",
    "    'client': client, \n",
    "    'model': 'text-embedding-3-small'\n",
    "  }\n",
    ")\n",
    "#X = obj.fit_transform(df.loc[:5, ['diagnoses']])\n",
    "#print(X.shape)"
   ]
  },
  {
   "cell_type": "code",
   "execution_count": 4,
   "metadata": {},
   "outputs": [
    {
     "name": "stdout",
     "output_type": "stream",
     "text": [
      "Google project id: moonlit-helper-426810-a2, location: us-central1\n"
     ]
    }
   ],
   "source": [
    "google_project_id = os.getenv('VERTEXAI_PROJECT')\n",
    "google_location = os.getenv('VERTEXAI_LOCATION')\n",
    "print(f\"Google project id: {google_project_id}, location: {google_location}\")"
   ]
  },
  {
   "cell_type": "code",
   "execution_count": 5,
   "metadata": {},
   "outputs": [],
   "source": [
    "obj = TextColumnTransformer(\n",
    "    model_type = 'google'\n",
    "    , google_args = {\n",
    "        'project_id': google_project_id\n",
    "        , 'location': google_location\n",
    "        , 'model': 'text-embedding-004'\n",
    "        , 'task': 'SEMANTIC_SIMILARITY'\n",
    "        , 'batch_size': 250\n",
    "    }\n",
    ")\n",
    "#X = obj.fit_transform(df.loc[:5, ['diagnoses']])\n",
    "#print(X.shape)"
   ]
  },
  {
   "cell_type": "code",
   "execution_count": 6,
   "metadata": {},
   "outputs": [
    {
     "name": "stderr",
     "output_type": "stream",
     "text": [
      "c:\\Users\\alire\\anaconda3\\envs\\devTEFE\\Lib\\site-packages\\huggingface_hub\\file_download.py:1132: FutureWarning: `resume_download` is deprecated and will be removed in version 1.0.0. Downloads always resume when possible. If you want to force a new download, use `force_download=True`.\n",
      "  warnings.warn(\n"
     ]
    },
    {
     "name": "stdout",
     "output_type": "stream",
     "text": [
      "(830, 384)\n"
     ]
    }
   ],
   "source": [
    "obj = TextColumnTransformer(\n",
    "    model_type = 'st'\n",
    "    , st_args = {\n",
    "        'model': 'sentence-transformers/all-MiniLM-L6-v2'\n",
    "    }\n",
    ")\n",
    "X = obj.fit_transform(df.loc[:, ['diagnoses']])\n",
    "print(X.shape)"
   ]
  },
  {
   "cell_type": "code",
   "execution_count": 7,
   "metadata": {},
   "outputs": [
    {
     "name": "stdout",
     "output_type": "stream",
     "text": [
      "[1 3 5 4 0]\n"
     ]
    }
   ],
   "source": [
    "from TabuLLM.cluster import SphericalKMeans\n",
    "cluster = SphericalKMeans(n_clusters=10, n_init=5)\n",
    "cluster.fit(X)\n",
    "print(cluster.predict(X[:5]))"
   ]
  },
  {
   "cell_type": "code",
   "execution_count": 8,
   "metadata": {},
   "outputs": [
    {
     "name": "stdout",
     "output_type": "stream",
     "text": [
      "(830, 10)\n"
     ]
    }
   ],
   "source": [
    "distances = cluster.transform(X)\n",
    "print(distances.shape)"
   ]
  },
  {
   "cell_type": "code",
   "execution_count": 9,
   "metadata": {},
   "outputs": [],
   "source": [
    "from TabuLLM.explain import generate_prompt\n",
    "prompt, payload = generate_prompt(\n",
    "    text_list = obj.prep_X(df[['diagnoses']]),\n",
    "    cluster_labels = cluster.predict(X),\n",
    "    prompt_observations = 'CPB procedures',\n",
    "    prompt_texts = 'diagnoses'\n",
    ")"
   ]
  },
  {
   "cell_type": "code",
   "execution_count": 10,
   "metadata": {},
   "outputs": [
    {
     "name": "stdout",
     "output_type": "stream",
     "text": [
      "The following is a list of 830 CPB procedures. Text lines represent diagnoses. Cpb procedures have been grouped into 10 groups, according to their diagnoses. Please suggest group labels that are representative of their members, and also distinct from each other. Follow the provided template to return - for each group - the group number, a short desciption / group label, and a long description.\n"
     ]
    }
   ],
   "source": [
    "print(prompt)"
   ]
  },
  {
   "cell_type": "code",
   "execution_count": 11,
   "metadata": {},
   "outputs": [
    {
     "name": "stdout",
     "output_type": "stream",
     "text": [
      "Group 1:\n",
      "\n",
      "diagnoses: 155516. Cardiac conduit failure;010133. Left heart obstruction at multiple sites (including Shone syndrome);093002. Aberrant origin R subclavian artery\n",
      "diagnoses: 091591. Aortic regurgitation;110100. Supraventricular tachycardia\n",
      "diagnoses: 155516. Cardiac conduit failure;111100. Pacemaker dysfunction / complication necessitating replacement;010117. Double outlet right ventricle with subaortic or doubly committed ventricular septal defect and pulmonary stenosis, Fallot type;070501. RV outflow tract obstruction;070901. LV outflow tract obstruction;110610. Acquired complete AV block\n"
     ]
    }
   ],
   "source": [
    "print('\\n'.join(payload.splitlines()[:5]))"
   ]
  },
  {
   "cell_type": "code",
   "execution_count": 12,
   "metadata": {},
   "outputs": [],
   "source": [
    "from TabuLLM.explain import generate_response\n",
    "if False:\n",
    "    generate_response(\n",
    "        prompt_instructions = prompt\n",
    "        , prompt_body = payload\n",
    "        , model_type = 'openai'\n",
    "        , openai_client = client\n",
    "        , openai_model = 'gpt-4o-mini'\n",
    "    )"
   ]
  },
  {
   "cell_type": "code",
   "execution_count": 13,
   "metadata": {},
   "outputs": [
    {
     "data": {
      "text/html": [
       "<div>\n",
       "<style scoped>\n",
       "    .dataframe tbody tr th:only-of-type {\n",
       "        vertical-align: middle;\n",
       "    }\n",
       "\n",
       "    .dataframe tbody tr th {\n",
       "        vertical-align: top;\n",
       "    }\n",
       "\n",
       "    .dataframe thead th {\n",
       "        text-align: right;\n",
       "    }\n",
       "</style>\n",
       "<table border=\"1\" class=\"dataframe\">\n",
       "  <thead>\n",
       "    <tr style=\"text-align: right;\">\n",
       "      <th></th>\n",
       "      <th>group_id</th>\n",
       "      <th>description_short</th>\n",
       "      <th>description_long</th>\n",
       "    </tr>\n",
       "  </thead>\n",
       "  <tbody>\n",
       "    <tr>\n",
       "      <th>0</th>\n",
       "      <td>0</td>\n",
       "      <td>Closure of Ventricular Septal Defects (VSDs)</td>\n",
       "      <td>Patients primarily undergoing surgical closure...</td>\n",
       "    </tr>\n",
       "    <tr>\n",
       "      <th>1</th>\n",
       "      <td>1</td>\n",
       "      <td>Pulmonary and Tricuspid Valve Surgeries</td>\n",
       "      <td>This group includes patients requiring repairs...</td>\n",
       "    </tr>\n",
       "    <tr>\n",
       "      <th>2</th>\n",
       "      <td>2</td>\n",
       "      <td>Tetralogy of Fallot (ToF) Repairs</td>\n",
       "      <td>Patients with Tetralogy of Fallot and related ...</td>\n",
       "    </tr>\n",
       "    <tr>\n",
       "      <th>3</th>\n",
       "      <td>3</td>\n",
       "      <td>Cardiac Conduit Replacements</td>\n",
       "      <td>Patients with complications related to cardiac...</td>\n",
       "    </tr>\n",
       "    <tr>\n",
       "      <th>4</th>\n",
       "      <td>4</td>\n",
       "      <td>Aortic Valve Surgeries</td>\n",
       "      <td>Patients undergoing procedures related to aort...</td>\n",
       "    </tr>\n",
       "    <tr>\n",
       "      <th>5</th>\n",
       "      <td>5</td>\n",
       "      <td>Atrioventricular Septal Defects (AVSDs)</td>\n",
       "      <td>Patients primarily undergoing repairs of Atrio...</td>\n",
       "    </tr>\n",
       "    <tr>\n",
       "      <th>6</th>\n",
       "      <td>6</td>\n",
       "      <td>Transposition and Related Surgery</td>\n",
       "      <td>This group involves patients with transpositio...</td>\n",
       "    </tr>\n",
       "    <tr>\n",
       "      <th>7</th>\n",
       "      <td>7</td>\n",
       "      <td>Univentricular Heart and Cavopulmonary Connect...</td>\n",
       "      <td>Patients requiring complex surgeries for unive...</td>\n",
       "    </tr>\n",
       "    <tr>\n",
       "      <th>8</th>\n",
       "      <td>8</td>\n",
       "      <td>Atrial Septal Defect (ASD) Repairs</td>\n",
       "      <td>Focuses on surgical repairs of Atrial Septal D...</td>\n",
       "    </tr>\n",
       "    <tr>\n",
       "      <th>9</th>\n",
       "      <td>9</td>\n",
       "      <td>Heart Transplants and Assistance Devices</td>\n",
       "      <td>Patients requiring heart transplantation or me...</td>\n",
       "    </tr>\n",
       "  </tbody>\n",
       "</table>\n",
       "</div>"
      ],
      "text/plain": [
       "   group_id                                  description_short  \\\n",
       "0         0       Closure of Ventricular Septal Defects (VSDs)   \n",
       "1         1            Pulmonary and Tricuspid Valve Surgeries   \n",
       "2         2                  Tetralogy of Fallot (ToF) Repairs   \n",
       "3         3                       Cardiac Conduit Replacements   \n",
       "4         4                             Aortic Valve Surgeries   \n",
       "5         5            Atrioventricular Septal Defects (AVSDs)   \n",
       "6         6                  Transposition and Related Surgery   \n",
       "7         7  Univentricular Heart and Cavopulmonary Connect...   \n",
       "8         8                 Atrial Septal Defect (ASD) Repairs   \n",
       "9         9           Heart Transplants and Assistance Devices   \n",
       "\n",
       "                                    description_long  \n",
       "0  Patients primarily undergoing surgical closure...  \n",
       "1  This group includes patients requiring repairs...  \n",
       "2  Patients with Tetralogy of Fallot and related ...  \n",
       "3  Patients with complications related to cardiac...  \n",
       "4  Patients undergoing procedures related to aort...  \n",
       "5  Patients primarily undergoing repairs of Atrio...  \n",
       "6  This group involves patients with transpositio...  \n",
       "7  Patients requiring complex surgeries for unive...  \n",
       "8  Focuses on surgical repairs of Atrial Septal D...  \n",
       "9  Patients requiring heart transplantation or me...  "
      ]
     },
     "execution_count": 13,
     "metadata": {},
     "output_type": "execute_result"
    }
   ],
   "source": [
    "explanations = pd.read_csv('../../data/explanations.csv')\n",
    "explanations"
   ]
  },
  {
   "cell_type": "code",
   "execution_count": 14,
   "metadata": {},
   "outputs": [
    {
     "data": {
      "text/html": [
       "<div>\n",
       "<style scoped>\n",
       "    .dataframe tbody tr th:only-of-type {\n",
       "        vertical-align: middle;\n",
       "    }\n",
       "\n",
       "    .dataframe tbody tr th {\n",
       "        vertical-align: top;\n",
       "    }\n",
       "\n",
       "    .dataframe thead th {\n",
       "        text-align: right;\n",
       "    }\n",
       "</style>\n",
       "<table border=\"1\" class=\"dataframe\">\n",
       "  <thead>\n",
       "    <tr style=\"text-align: right;\">\n",
       "      <th></th>\n",
       "      <th>Odds Ratio</th>\n",
       "      <th>P-value</th>\n",
       "    </tr>\n",
       "  </thead>\n",
       "  <tbody>\n",
       "    <tr>\n",
       "      <th>0</th>\n",
       "      <td>0.808065</td>\n",
       "      <td>3.493238e-01</td>\n",
       "    </tr>\n",
       "    <tr>\n",
       "      <th>1</th>\n",
       "      <td>1.106780</td>\n",
       "      <td>6.872657e-01</td>\n",
       "    </tr>\n",
       "    <tr>\n",
       "      <th>2</th>\n",
       "      <td>0.452492</td>\n",
       "      <td>1.171836e-01</td>\n",
       "    </tr>\n",
       "    <tr>\n",
       "      <th>3</th>\n",
       "      <td>1.295413</td>\n",
       "      <td>2.013507e-01</td>\n",
       "    </tr>\n",
       "    <tr>\n",
       "      <th>4</th>\n",
       "      <td>0.820426</td>\n",
       "      <td>7.358009e-01</td>\n",
       "    </tr>\n",
       "    <tr>\n",
       "      <th>5</th>\n",
       "      <td>0.704426</td>\n",
       "      <td>3.149755e-01</td>\n",
       "    </tr>\n",
       "    <tr>\n",
       "      <th>6</th>\n",
       "      <td>1.272727</td>\n",
       "      <td>3.901943e-01</td>\n",
       "    </tr>\n",
       "    <tr>\n",
       "      <th>7</th>\n",
       "      <td>5.587500</td>\n",
       "      <td>1.296613e-07</td>\n",
       "    </tr>\n",
       "    <tr>\n",
       "      <th>8</th>\n",
       "      <td>1.063765</td>\n",
       "      <td>8.184820e-01</td>\n",
       "    </tr>\n",
       "    <tr>\n",
       "      <th>9</th>\n",
       "      <td>0.159012</td>\n",
       "      <td>1.106404e-05</td>\n",
       "    </tr>\n",
       "  </tbody>\n",
       "</table>\n",
       "</div>"
      ],
      "text/plain": [
       "   Odds Ratio       P-value\n",
       "0    0.808065  3.493238e-01\n",
       "1    1.106780  6.872657e-01\n",
       "2    0.452492  1.171836e-01\n",
       "3    1.295413  2.013507e-01\n",
       "4    0.820426  7.358009e-01\n",
       "5    0.704426  3.149755e-01\n",
       "6    1.272727  3.901943e-01\n",
       "7    5.587500  1.296613e-07\n",
       "8    1.063765  8.184820e-01\n",
       "9    0.159012  1.106404e-05"
      ]
     },
     "execution_count": 14,
     "metadata": {},
     "output_type": "execute_result"
    }
   ],
   "source": [
    "from TabuLLM.explain import one_vs_rest\n",
    "ovr = one_vs_rest(\n",
    "    pd.DataFrame({\n",
    "        'cluster': cluster.predict(X)\n",
    "        , 'outcome': df['aki_severity']\n",
    "    })\n",
    ")\n",
    "ovr"
   ]
  },
  {
   "cell_type": "code",
   "execution_count": 15,
   "metadata": {},
   "outputs": [
    {
     "data": {
      "text/html": [
       "<div>\n",
       "<style scoped>\n",
       "    .dataframe tbody tr th:only-of-type {\n",
       "        vertical-align: middle;\n",
       "    }\n",
       "\n",
       "    .dataframe tbody tr th {\n",
       "        vertical-align: top;\n",
       "    }\n",
       "\n",
       "    .dataframe thead th {\n",
       "        text-align: right;\n",
       "    }\n",
       "</style>\n",
       "<table border=\"1\" class=\"dataframe\">\n",
       "  <thead>\n",
       "    <tr style=\"text-align: right;\">\n",
       "      <th></th>\n",
       "      <th>group</th>\n",
       "      <th>Odds Ratio</th>\n",
       "      <th>P-value</th>\n",
       "    </tr>\n",
       "  </thead>\n",
       "  <tbody>\n",
       "    <tr>\n",
       "      <th>0</th>\n",
       "      <td>Closure of Ventricular Septal Defects (VSDs)</td>\n",
       "      <td>0.808065</td>\n",
       "      <td>3.493238e-01</td>\n",
       "    </tr>\n",
       "    <tr>\n",
       "      <th>1</th>\n",
       "      <td>Pulmonary and Tricuspid Valve Surgeries</td>\n",
       "      <td>1.106780</td>\n",
       "      <td>6.872657e-01</td>\n",
       "    </tr>\n",
       "    <tr>\n",
       "      <th>2</th>\n",
       "      <td>Tetralogy of Fallot (ToF) Repairs</td>\n",
       "      <td>0.452492</td>\n",
       "      <td>1.171836e-01</td>\n",
       "    </tr>\n",
       "    <tr>\n",
       "      <th>3</th>\n",
       "      <td>Cardiac Conduit Replacements</td>\n",
       "      <td>1.295413</td>\n",
       "      <td>2.013507e-01</td>\n",
       "    </tr>\n",
       "    <tr>\n",
       "      <th>4</th>\n",
       "      <td>Aortic Valve Surgeries</td>\n",
       "      <td>0.820426</td>\n",
       "      <td>7.358009e-01</td>\n",
       "    </tr>\n",
       "    <tr>\n",
       "      <th>5</th>\n",
       "      <td>Atrioventricular Septal Defects (AVSDs)</td>\n",
       "      <td>0.704426</td>\n",
       "      <td>3.149755e-01</td>\n",
       "    </tr>\n",
       "    <tr>\n",
       "      <th>6</th>\n",
       "      <td>Transposition and Related Surgery</td>\n",
       "      <td>1.272727</td>\n",
       "      <td>3.901943e-01</td>\n",
       "    </tr>\n",
       "    <tr>\n",
       "      <th>7</th>\n",
       "      <td>Univentricular Heart and Cavopulmonary Connect...</td>\n",
       "      <td>5.587500</td>\n",
       "      <td>1.296613e-07</td>\n",
       "    </tr>\n",
       "    <tr>\n",
       "      <th>8</th>\n",
       "      <td>Atrial Septal Defect (ASD) Repairs</td>\n",
       "      <td>1.063765</td>\n",
       "      <td>8.184820e-01</td>\n",
       "    </tr>\n",
       "    <tr>\n",
       "      <th>9</th>\n",
       "      <td>Heart Transplants and Assistance Devices</td>\n",
       "      <td>0.159012</td>\n",
       "      <td>1.106404e-05</td>\n",
       "    </tr>\n",
       "  </tbody>\n",
       "</table>\n",
       "</div>"
      ],
      "text/plain": [
       "                                               group  Odds Ratio       P-value\n",
       "0       Closure of Ventricular Septal Defects (VSDs)    0.808065  3.493238e-01\n",
       "1            Pulmonary and Tricuspid Valve Surgeries    1.106780  6.872657e-01\n",
       "2                  Tetralogy of Fallot (ToF) Repairs    0.452492  1.171836e-01\n",
       "3                       Cardiac Conduit Replacements    1.295413  2.013507e-01\n",
       "4                             Aortic Valve Surgeries    0.820426  7.358009e-01\n",
       "5            Atrioventricular Septal Defects (AVSDs)    0.704426  3.149755e-01\n",
       "6                  Transposition and Related Surgery    1.272727  3.901943e-01\n",
       "7  Univentricular Heart and Cavopulmonary Connect...    5.587500  1.296613e-07\n",
       "8                 Atrial Septal Defect (ASD) Repairs    1.063765  8.184820e-01\n",
       "9           Heart Transplants and Assistance Devices    0.159012  1.106404e-05"
      ]
     },
     "execution_count": 15,
     "metadata": {},
     "output_type": "execute_result"
    }
   ],
   "source": [
    "pd.concat([explanations[['description_short']].rename(columns = {'description_short': 'group'}), ovr], axis=1)"
   ]
  },
  {
   "cell_type": "code",
   "execution_count": 16,
   "metadata": {},
   "outputs": [],
   "source": [
    "features_baseline = ['is_female', 'age', 'height', 'weight', 'optime']\n",
    "features_text = ['diagnoses', 'operations']\n",
    "X = df[features_baseline + features_text]\n",
    "y = df['aki_severity']"
   ]
  },
  {
   "cell_type": "code",
   "execution_count": 17,
   "metadata": {},
   "outputs": [],
   "source": [
    "from sklearn.compose import ColumnTransformer\n",
    "from sklearn.pipeline import Pipeline\n",
    "from sklearn.linear_model import LogisticRegression\n",
    "\n",
    "ct_baseline = ColumnTransformer([\n",
    "    ('baseline', 'passthrough', features_baseline)\n",
    "], remainder = 'drop')\n",
    "pipeline_baseline = Pipeline([\n",
    "    ('coltrans', ct_baseline)\n",
    "    , ('logit', LogisticRegression(penalty = None))\n",
    "])"
   ]
  },
  {
   "cell_type": "code",
   "execution_count": 18,
   "metadata": {},
   "outputs": [
    {
     "data": {
      "text/plain": [
       "0.6755453574203575"
      ]
     },
     "execution_count": 18,
     "metadata": {},
     "output_type": "execute_result"
    }
   ],
   "source": [
    "from sklearn.model_selection import KFold, cross_val_score\n",
    "\n",
    "kf = KFold(n_splits = 50, shuffle = True, random_state = 1234)\n",
    "\n",
    "auc_baseline = cross_val_score(\n",
    "    pipeline_baseline\n",
    "    , X, y, cv = kf\n",
    "    , scoring = 'roc_auc'\n",
    ")\n",
    "auc_baseline.mean()"
   ]
  },
  {
   "cell_type": "code",
   "execution_count": null,
   "metadata": {},
   "outputs": [],
   "source": [
    "trans_embed = TextColumnTransformer(\n",
    "    model_type = 'st'\n",
    ")\n",
    "trans_cluster = SphericalKMeans(n_clusters=10, n_init=5)\n",
    "ct_text = Pipeline([\n",
    "    ('embed', trans_embed)\n",
    "    , ('cluster', trans_cluster)\n",
    "])\n",
    "ct_tabullm = ColumnTransformer([\n",
    "    ('text', ct_text, features_text)\n",
    "], remainder = 'passthrough')\n",
    "pipeline_tabullm = Pipeline([\n",
    "    ('coltrans', ct_tabullm)\n",
    "    , ('logit', LogisticRegression(penalty = None))\n",
    "])\n",
    "\n",
    "auc_tabullm = cross_val_score(\n",
    "    pipeline_tabullm\n",
    "    , X, y, cv = kf\n",
    "    , scoring = 'roc_auc'\n",
    ")\n",
    "auc_tabullm.mean()"
   ]
  },
  {
   "cell_type": "code",
   "execution_count": 20,
   "metadata": {},
   "outputs": [
    {
     "name": "stderr",
     "output_type": "stream",
     "text": [
      "c:\\Users\\alire\\anaconda3\\envs\\devTEFE\\Lib\\site-packages\\huggingface_hub\\file_download.py:1132: FutureWarning: `resume_download` is deprecated and will be removed in version 1.0.0. Downloads always resume when possible. If you want to force a new download, use `force_download=True`.\n",
      "  warnings.warn(\n"
     ]
    }
   ],
   "source": [
    "X_embedding = trans_embed.fit_transform(df[features_text])\n",
    "X_2 = pd.concat([X_embedding, df[features_baseline]], axis=1)"
   ]
  },
  {
   "cell_type": "code",
   "execution_count": 22,
   "metadata": {},
   "outputs": [
    {
     "data": {
      "text/plain": [
       "0.6814838911088912"
      ]
     },
     "execution_count": 22,
     "metadata": {},
     "output_type": "execute_result"
    }
   ],
   "source": [
    "from sklearn.preprocessing import TargetEncoder, StandardScaler\n",
    "\n",
    "ct_tabullm_2 = ColumnTransformer([\n",
    "    ('cluster_text', SphericalKMeans(n_clusters=10, n_init=5), X_embedding.columns)\n",
    "    , ('baseline', StandardScaler(), features_baseline)\n",
    "], remainder = 'passthrough')\n",
    "\n",
    "pipeline_tabullm_2 = Pipeline([\n",
    "    ('coltrans', ct_tabullm_2)\n",
    "    , ('logit', LogisticRegression())\n",
    "])\n",
    "\n",
    "auc_tabullm_2 = cross_val_score(\n",
    "    pipeline_tabullm_2\n",
    "    , X_2, y, cv = kf\n",
    "    , scoring = 'roc_auc'\n",
    ")\n",
    "auc_tabullm_2.mean()"
   ]
  },
  {
   "cell_type": "code",
   "execution_count": 23,
   "metadata": {},
   "outputs": [
    {
     "data": {
      "text/plain": [
       "0.6823733904983905"
      ]
     },
     "execution_count": 23,
     "metadata": {},
     "output_type": "execute_result"
    }
   ],
   "source": [
    "\n",
    "pipeline_te = Pipeline([\n",
    "    ('cluster', SphericalKMeans(n_clusters=10, n_init=5, return_hard_labels=True)),\n",
    "    ('te', TargetEncoder(smooth = 'auto'))\n",
    "])\n",
    "ct_te = ColumnTransformer([\n",
    "    ('baseline', StandardScaler(), features_baseline),\n",
    "    ('text', pipeline_te, X_2.columns)\n",
    "], remainder = 'drop')\n",
    "pipeline_te = Pipeline([\n",
    "    ('preprocess', ct_te)\n",
    "    , ('logit', LogisticRegression())\n",
    "])\n",
    "auc_tabullm_3 = cross_val_score(\n",
    "    pipeline_te\n",
    "    , X_2, y, cv = kf\n",
    "    , scoring = 'roc_auc'\n",
    ")\n",
    "auc_tabullm_3.mean()"
   ]
  },
  {
   "cell_type": "code",
   "execution_count": null,
   "metadata": {},
   "outputs": [],
   "source": []
  }
 ],
 "metadata": {
  "kernelspec": {
   "display_name": "devTEFE",
   "language": "python",
   "name": "python3"
  },
  "language_info": {
   "codemirror_mode": {
    "name": "ipython",
    "version": 3
   },
   "file_extension": ".py",
   "mimetype": "text/x-python",
   "name": "python",
   "nbconvert_exporter": "python",
   "pygments_lexer": "ipython3",
   "version": "3.11.9"
  }
 },
 "nbformat": 4,
 "nbformat_minor": 2
}
