{
 "cells": [
  {
   "cell_type": "code",
   "execution_count": 1,
   "metadata": {},
   "outputs": [
    {
     "name": "stdout",
     "output_type": "stream",
     "text": [
      "Example of diagnoses:\n",
      "155516. Cardiac conduit failure;090101. Common arterial trunk;110021. Cardiac arrest\n",
      "\n",
      "\n",
      "Example of operations:\n",
      "123610. Replacement of cardiac conduit;123452. Pacemaker system placement: biventricular\n",
      "\n"
     ]
    }
   ],
   "source": [
    "import pandas as pd\n",
    "df = pd.read_csv('../../data/raw.csv')\n",
    "print(f\"Example of diagnoses:\\n{df['diagnoses'][2]}\\n\\n\")\n",
    "print(f\"Example of operations:\\n{df['operations'][2]}\\n\")"
   ]
  },
  {
   "cell_type": "code",
   "execution_count": 2,
   "metadata": {},
   "outputs": [],
   "source": [
    "import os\n",
    "from openai import OpenAI\n",
    "from dotenv import load_dotenv\n",
    "load_dotenv()\n",
    "openai_api_key = os.getenv('OPENAI_API_KEY')\n",
    "client = OpenAI(api_key=openai_api_key)"
   ]
  },
  {
   "cell_type": "code",
   "execution_count": 3,
   "metadata": {},
   "outputs": [
    {
     "name": "stderr",
     "output_type": "stream",
     "text": [
      "c:\\Users\\alire\\anaconda3\\envs\\devTEFE\\Lib\\site-packages\\sentence_transformers\\cross_encoder\\CrossEncoder.py:11: TqdmExperimentalWarning: Using `tqdm.autonotebook.tqdm` in notebook mode. Use `tqdm.tqdm` instead to force console mode (e.g. in jupyter console)\n",
      "  from tqdm.autonotebook import tqdm, trange\n"
     ]
    }
   ],
   "source": [
    "from TabuLLM.embed import TextColumnTransformer\n",
    "obj = TextColumnTransformer(\n",
    "  model_type = 'openai',\n",
    "  openai_args = {\n",
    "    'client': client, \n",
    "    'model': 'text-embedding-3-small'\n",
    "  }\n",
    ")\n",
    "#X = obj.fit_transform(df.loc[:5, ['diagnoses']])\n",
    "#print(X.shape)"
   ]
  },
  {
   "cell_type": "code",
   "execution_count": 4,
   "metadata": {},
   "outputs": [
    {
     "name": "stdout",
     "output_type": "stream",
     "text": [
      "Google project id: moonlit-helper-426810-a2, location: us-central1\n"
     ]
    }
   ],
   "source": [
    "google_project_id = os.getenv('VERTEXAI_PROJECT')\n",
    "google_location = os.getenv('VERTEXAI_LOCATION')\n",
    "print(f\"Google project id: {google_project_id}, location: {google_location}\")"
   ]
  },
  {
   "cell_type": "code",
   "execution_count": 5,
   "metadata": {},
   "outputs": [],
   "source": [
    "obj = TextColumnTransformer(\n",
    "    model_type = 'google'\n",
    "    , google_args = {\n",
    "        'project_id': google_project_id\n",
    "        , 'location': google_location\n",
    "        , 'model': 'text-embedding-004'\n",
    "        , 'task': 'SEMANTIC_SIMILARITY'\n",
    "        , 'batch_size': 250\n",
    "    }\n",
    ")\n",
    "#X = obj.fit_transform(df.loc[:5, ['diagnoses']])\n",
    "#print(X.shape)"
   ]
  },
  {
   "cell_type": "code",
   "execution_count": 6,
   "metadata": {},
   "outputs": [
    {
     "name": "stderr",
     "output_type": "stream",
     "text": [
      "c:\\Users\\alire\\anaconda3\\envs\\devTEFE\\Lib\\site-packages\\huggingface_hub\\file_download.py:1132: FutureWarning: `resume_download` is deprecated and will be removed in version 1.0.0. Downloads always resume when possible. If you want to force a new download, use `force_download=True`.\n",
      "  warnings.warn(\n"
     ]
    },
    {
     "name": "stdout",
     "output_type": "stream",
     "text": [
      "(830, 384)\n"
     ]
    }
   ],
   "source": [
    "obj = TextColumnTransformer(\n",
    "    model_type = 'st'\n",
    "    , st_args = {\n",
    "        'model': 'sentence-transformers/all-MiniLM-L6-v2'\n",
    "    }\n",
    ")\n",
    "X = obj.fit_transform(df.loc[:, ['diagnoses']])\n",
    "print(X.shape)"
   ]
  },
  {
   "cell_type": "code",
   "execution_count": 7,
   "metadata": {},
   "outputs": [
    {
     "name": "stdout",
     "output_type": "stream",
     "text": [
      "[7 0 6 6 8]\n"
     ]
    }
   ],
   "source": [
    "from TabuLLM.cluster import SphericalKMeans\n",
    "cluster = SphericalKMeans(n_clusters=10, n_init=5)\n",
    "cluster.fit(X)\n",
    "print(cluster.predict(X[:5]))"
   ]
  },
  {
   "cell_type": "code",
   "execution_count": 8,
   "metadata": {},
   "outputs": [
    {
     "name": "stdout",
     "output_type": "stream",
     "text": [
      "(830, 10)\n"
     ]
    }
   ],
   "source": [
    "distances = cluster.transform(X)\n",
    "print(distances.shape)"
   ]
  },
  {
   "cell_type": "code",
   "execution_count": 9,
   "metadata": {},
   "outputs": [],
   "source": [
    "from TabuLLM.explain import generate_prompt\n",
    "prompt, payload = generate_prompt(\n",
    "    text_list = obj.prep_X(df[['diagnoses']]),\n",
    "    cluster_labels = cluster.predict(X),\n",
    "    prompt_observations = 'CPB procedures',\n",
    "    prompt_texts = 'diagnoses'\n",
    ")"
   ]
  },
  {
   "cell_type": "code",
   "execution_count": 10,
   "metadata": {},
   "outputs": [
    {
     "name": "stdout",
     "output_type": "stream",
     "text": [
      "The following is a list of 830 CPB procedures. Text lines represent diagnoses. Cpb procedures have been grouped into 10 groups, according to their diagnoses. Please suggest group labels that are representative of their members, and also distinct from each other. Follow the provided template to return - for each group - the group number, a short desciption / group label, and a long description.\n"
     ]
    }
   ],
   "source": [
    "print(prompt)"
   ]
  },
  {
   "cell_type": "code",
   "execution_count": 11,
   "metadata": {},
   "outputs": [
    {
     "name": "stdout",
     "output_type": "stream",
     "text": [
      "Group 1:\n",
      "\n",
      "diagnoses: 091591. Aortic regurgitation;091519. Congenital anomaly of aortic valve;071205. Doubly committed juxta-arterial ventricular septal defect (VSD) with anteriorly malaligned fibrous outlet septum and perimembranous extension\n",
      "diagnoses: 071001. Perimembranous central ventricular septal defect (VSD);070501. RV outflow tract obstruction\n",
      "diagnoses: 071001. Perimembranous central ventricular septal defect (VSD);071402. Communication between LV-RA (Gerbode defect);060191. Tricuspid regurgitation\n"
     ]
    }
   ],
   "source": [
    "print('\\n'.join(payload.splitlines()[:5]))"
   ]
  },
  {
   "cell_type": "code",
   "execution_count": 12,
   "metadata": {},
   "outputs": [],
   "source": [
    "from TabuLLM.explain import generate_response\n",
    "if False:\n",
    "    generate_response(\n",
    "        prompt_instructions = prompt\n",
    "        , prompt_body = payload\n",
    "        , model_type = 'openai'\n",
    "        , openai_client = client\n",
    "        , openai_model = 'gpt-4o-mini'\n",
    "    )"
   ]
  },
  {
   "cell_type": "code",
   "execution_count": 13,
   "metadata": {},
   "outputs": [
    {
     "data": {
      "text/html": [
       "<div>\n",
       "<style scoped>\n",
       "    .dataframe tbody tr th:only-of-type {\n",
       "        vertical-align: middle;\n",
       "    }\n",
       "\n",
       "    .dataframe tbody tr th {\n",
       "        vertical-align: top;\n",
       "    }\n",
       "\n",
       "    .dataframe thead th {\n",
       "        text-align: right;\n",
       "    }\n",
       "</style>\n",
       "<table border=\"1\" class=\"dataframe\">\n",
       "  <thead>\n",
       "    <tr style=\"text-align: right;\">\n",
       "      <th></th>\n",
       "      <th>group_id</th>\n",
       "      <th>description_short</th>\n",
       "      <th>description_long</th>\n",
       "    </tr>\n",
       "  </thead>\n",
       "  <tbody>\n",
       "    <tr>\n",
       "      <th>0</th>\n",
       "      <td>0</td>\n",
       "      <td>Closure of Ventricular Septal Defects (VSDs)</td>\n",
       "      <td>Patients primarily undergoing surgical closure...</td>\n",
       "    </tr>\n",
       "    <tr>\n",
       "      <th>1</th>\n",
       "      <td>1</td>\n",
       "      <td>Pulmonary and Tricuspid Valve Surgeries</td>\n",
       "      <td>This group includes patients requiring repairs...</td>\n",
       "    </tr>\n",
       "    <tr>\n",
       "      <th>2</th>\n",
       "      <td>2</td>\n",
       "      <td>Tetralogy of Fallot (ToF) Repairs</td>\n",
       "      <td>Patients with Tetralogy of Fallot and related ...</td>\n",
       "    </tr>\n",
       "    <tr>\n",
       "      <th>3</th>\n",
       "      <td>3</td>\n",
       "      <td>Cardiac Conduit Replacements</td>\n",
       "      <td>Patients with complications related to cardiac...</td>\n",
       "    </tr>\n",
       "    <tr>\n",
       "      <th>4</th>\n",
       "      <td>4</td>\n",
       "      <td>Aortic Valve Surgeries</td>\n",
       "      <td>Patients undergoing procedures related to aort...</td>\n",
       "    </tr>\n",
       "    <tr>\n",
       "      <th>5</th>\n",
       "      <td>5</td>\n",
       "      <td>Atrioventricular Septal Defects (AVSDs)</td>\n",
       "      <td>Patients primarily undergoing repairs of Atrio...</td>\n",
       "    </tr>\n",
       "    <tr>\n",
       "      <th>6</th>\n",
       "      <td>6</td>\n",
       "      <td>Transposition and Related Surgery</td>\n",
       "      <td>This group involves patients with transpositio...</td>\n",
       "    </tr>\n",
       "    <tr>\n",
       "      <th>7</th>\n",
       "      <td>7</td>\n",
       "      <td>Univentricular Heart and Cavopulmonary Connect...</td>\n",
       "      <td>Patients requiring complex surgeries for unive...</td>\n",
       "    </tr>\n",
       "    <tr>\n",
       "      <th>8</th>\n",
       "      <td>8</td>\n",
       "      <td>Atrial Septal Defect (ASD) Repairs</td>\n",
       "      <td>Focuses on surgical repairs of Atrial Septal D...</td>\n",
       "    </tr>\n",
       "    <tr>\n",
       "      <th>9</th>\n",
       "      <td>9</td>\n",
       "      <td>Heart Transplants and Assistance Devices</td>\n",
       "      <td>Patients requiring heart transplantation or me...</td>\n",
       "    </tr>\n",
       "  </tbody>\n",
       "</table>\n",
       "</div>"
      ],
      "text/plain": [
       "   group_id                                  description_short  \\\n",
       "0         0       Closure of Ventricular Septal Defects (VSDs)   \n",
       "1         1            Pulmonary and Tricuspid Valve Surgeries   \n",
       "2         2                  Tetralogy of Fallot (ToF) Repairs   \n",
       "3         3                       Cardiac Conduit Replacements   \n",
       "4         4                             Aortic Valve Surgeries   \n",
       "5         5            Atrioventricular Septal Defects (AVSDs)   \n",
       "6         6                  Transposition and Related Surgery   \n",
       "7         7  Univentricular Heart and Cavopulmonary Connect...   \n",
       "8         8                 Atrial Septal Defect (ASD) Repairs   \n",
       "9         9           Heart Transplants and Assistance Devices   \n",
       "\n",
       "                                    description_long  \n",
       "0  Patients primarily undergoing surgical closure...  \n",
       "1  This group includes patients requiring repairs...  \n",
       "2  Patients with Tetralogy of Fallot and related ...  \n",
       "3  Patients with complications related to cardiac...  \n",
       "4  Patients undergoing procedures related to aort...  \n",
       "5  Patients primarily undergoing repairs of Atrio...  \n",
       "6  This group involves patients with transpositio...  \n",
       "7  Patients requiring complex surgeries for unive...  \n",
       "8  Focuses on surgical repairs of Atrial Septal D...  \n",
       "9  Patients requiring heart transplantation or me...  "
      ]
     },
     "execution_count": 13,
     "metadata": {},
     "output_type": "execute_result"
    }
   ],
   "source": [
    "explanations = pd.read_csv('../../data/explanations.csv')\n",
    "explanations"
   ]
  },
  {
   "cell_type": "code",
   "execution_count": 14,
   "metadata": {},
   "outputs": [
    {
     "data": {
      "text/html": [
       "<div>\n",
       "<style scoped>\n",
       "    .dataframe tbody tr th:only-of-type {\n",
       "        vertical-align: middle;\n",
       "    }\n",
       "\n",
       "    .dataframe tbody tr th {\n",
       "        vertical-align: top;\n",
       "    }\n",
       "\n",
       "    .dataframe thead th {\n",
       "        text-align: right;\n",
       "    }\n",
       "</style>\n",
       "<table border=\"1\" class=\"dataframe\">\n",
       "  <thead>\n",
       "    <tr style=\"text-align: right;\">\n",
       "      <th></th>\n",
       "      <th>Odds Ratio</th>\n",
       "      <th>P-value</th>\n",
       "    </tr>\n",
       "  </thead>\n",
       "  <tbody>\n",
       "    <tr>\n",
       "      <th>0</th>\n",
       "      <td>1.268311</td>\n",
       "      <td>2.403796e-01</td>\n",
       "    </tr>\n",
       "    <tr>\n",
       "      <th>1</th>\n",
       "      <td>1.006618</td>\n",
       "      <td>1.000000e+00</td>\n",
       "    </tr>\n",
       "    <tr>\n",
       "      <th>2</th>\n",
       "      <td>0.703439</td>\n",
       "      <td>2.470421e-01</td>\n",
       "    </tr>\n",
       "    <tr>\n",
       "      <th>3</th>\n",
       "      <td>1.482042</td>\n",
       "      <td>3.262249e-01</td>\n",
       "    </tr>\n",
       "    <tr>\n",
       "      <th>4</th>\n",
       "      <td>5.587500</td>\n",
       "      <td>1.296613e-07</td>\n",
       "    </tr>\n",
       "    <tr>\n",
       "      <th>5</th>\n",
       "      <td>1.380923</td>\n",
       "      <td>2.160364e-01</td>\n",
       "    </tr>\n",
       "    <tr>\n",
       "      <th>6</th>\n",
       "      <td>0.610717</td>\n",
       "      <td>7.900380e-02</td>\n",
       "    </tr>\n",
       "    <tr>\n",
       "      <th>7</th>\n",
       "      <td>1.099935</td>\n",
       "      <td>7.681655e-01</td>\n",
       "    </tr>\n",
       "    <tr>\n",
       "      <th>8</th>\n",
       "      <td>0.765392</td>\n",
       "      <td>4.282053e-01</td>\n",
       "    </tr>\n",
       "    <tr>\n",
       "      <th>9</th>\n",
       "      <td>0.114689</td>\n",
       "      <td>1.282851e-06</td>\n",
       "    </tr>\n",
       "  </tbody>\n",
       "</table>\n",
       "</div>"
      ],
      "text/plain": [
       "   Odds Ratio       P-value\n",
       "0    1.268311  2.403796e-01\n",
       "1    1.006618  1.000000e+00\n",
       "2    0.703439  2.470421e-01\n",
       "3    1.482042  3.262249e-01\n",
       "4    5.587500  1.296613e-07\n",
       "5    1.380923  2.160364e-01\n",
       "6    0.610717  7.900380e-02\n",
       "7    1.099935  7.681655e-01\n",
       "8    0.765392  4.282053e-01\n",
       "9    0.114689  1.282851e-06"
      ]
     },
     "execution_count": 14,
     "metadata": {},
     "output_type": "execute_result"
    }
   ],
   "source": [
    "from TabuLLM.explain import one_vs_rest\n",
    "ovr = one_vs_rest(\n",
    "    pd.DataFrame({\n",
    "        'cluster': cluster.predict(X)\n",
    "        , 'outcome': df['aki_severity']\n",
    "    })\n",
    ")\n",
    "ovr"
   ]
  },
  {
   "cell_type": "code",
   "execution_count": 15,
   "metadata": {},
   "outputs": [
    {
     "data": {
      "text/html": [
       "<div>\n",
       "<style scoped>\n",
       "    .dataframe tbody tr th:only-of-type {\n",
       "        vertical-align: middle;\n",
       "    }\n",
       "\n",
       "    .dataframe tbody tr th {\n",
       "        vertical-align: top;\n",
       "    }\n",
       "\n",
       "    .dataframe thead th {\n",
       "        text-align: right;\n",
       "    }\n",
       "</style>\n",
       "<table border=\"1\" class=\"dataframe\">\n",
       "  <thead>\n",
       "    <tr style=\"text-align: right;\">\n",
       "      <th></th>\n",
       "      <th>group</th>\n",
       "      <th>Odds Ratio</th>\n",
       "      <th>P-value</th>\n",
       "    </tr>\n",
       "  </thead>\n",
       "  <tbody>\n",
       "    <tr>\n",
       "      <th>0</th>\n",
       "      <td>Closure of Ventricular Septal Defects (VSDs)</td>\n",
       "      <td>1.268311</td>\n",
       "      <td>2.403796e-01</td>\n",
       "    </tr>\n",
       "    <tr>\n",
       "      <th>1</th>\n",
       "      <td>Pulmonary and Tricuspid Valve Surgeries</td>\n",
       "      <td>1.006618</td>\n",
       "      <td>1.000000e+00</td>\n",
       "    </tr>\n",
       "    <tr>\n",
       "      <th>2</th>\n",
       "      <td>Tetralogy of Fallot (ToF) Repairs</td>\n",
       "      <td>0.703439</td>\n",
       "      <td>2.470421e-01</td>\n",
       "    </tr>\n",
       "    <tr>\n",
       "      <th>3</th>\n",
       "      <td>Cardiac Conduit Replacements</td>\n",
       "      <td>1.482042</td>\n",
       "      <td>3.262249e-01</td>\n",
       "    </tr>\n",
       "    <tr>\n",
       "      <th>4</th>\n",
       "      <td>Aortic Valve Surgeries</td>\n",
       "      <td>5.587500</td>\n",
       "      <td>1.296613e-07</td>\n",
       "    </tr>\n",
       "    <tr>\n",
       "      <th>5</th>\n",
       "      <td>Atrioventricular Septal Defects (AVSDs)</td>\n",
       "      <td>1.380923</td>\n",
       "      <td>2.160364e-01</td>\n",
       "    </tr>\n",
       "    <tr>\n",
       "      <th>6</th>\n",
       "      <td>Transposition and Related Surgery</td>\n",
       "      <td>0.610717</td>\n",
       "      <td>7.900380e-02</td>\n",
       "    </tr>\n",
       "    <tr>\n",
       "      <th>7</th>\n",
       "      <td>Univentricular Heart and Cavopulmonary Connect...</td>\n",
       "      <td>1.099935</td>\n",
       "      <td>7.681655e-01</td>\n",
       "    </tr>\n",
       "    <tr>\n",
       "      <th>8</th>\n",
       "      <td>Atrial Septal Defect (ASD) Repairs</td>\n",
       "      <td>0.765392</td>\n",
       "      <td>4.282053e-01</td>\n",
       "    </tr>\n",
       "    <tr>\n",
       "      <th>9</th>\n",
       "      <td>Heart Transplants and Assistance Devices</td>\n",
       "      <td>0.114689</td>\n",
       "      <td>1.282851e-06</td>\n",
       "    </tr>\n",
       "  </tbody>\n",
       "</table>\n",
       "</div>"
      ],
      "text/plain": [
       "                                               group  Odds Ratio       P-value\n",
       "0       Closure of Ventricular Septal Defects (VSDs)    1.268311  2.403796e-01\n",
       "1            Pulmonary and Tricuspid Valve Surgeries    1.006618  1.000000e+00\n",
       "2                  Tetralogy of Fallot (ToF) Repairs    0.703439  2.470421e-01\n",
       "3                       Cardiac Conduit Replacements    1.482042  3.262249e-01\n",
       "4                             Aortic Valve Surgeries    5.587500  1.296613e-07\n",
       "5            Atrioventricular Septal Defects (AVSDs)    1.380923  2.160364e-01\n",
       "6                  Transposition and Related Surgery    0.610717  7.900380e-02\n",
       "7  Univentricular Heart and Cavopulmonary Connect...    1.099935  7.681655e-01\n",
       "8                 Atrial Septal Defect (ASD) Repairs    0.765392  4.282053e-01\n",
       "9           Heart Transplants and Assistance Devices    0.114689  1.282851e-06"
      ]
     },
     "execution_count": 15,
     "metadata": {},
     "output_type": "execute_result"
    }
   ],
   "source": [
    "pd.concat([explanations[['description_short']].rename(columns = {'description_short': 'group'}), ovr], axis=1)"
   ]
  },
  {
   "cell_type": "code",
   "execution_count": 16,
   "metadata": {},
   "outputs": [],
   "source": [
    "features_baseline = ['is_female', 'age', 'height', 'weight', 'optime']\n",
    "features_text = ['diagnoses', 'operations']\n",
    "X = df[features_baseline + features_text]\n",
    "y = df['aki_severity']"
   ]
  },
  {
   "cell_type": "code",
   "execution_count": 17,
   "metadata": {},
   "outputs": [],
   "source": [
    "from sklearn.compose import ColumnTransformer\n",
    "from sklearn.pipeline import Pipeline\n",
    "from sklearn.linear_model import LogisticRegression\n",
    "\n",
    "ct_baseline = ColumnTransformer([\n",
    "    ('baseline', 'passthrough', features_baseline)\n",
    "], remainder = 'drop')\n",
    "pipeline_baseline = Pipeline([\n",
    "    ('coltrans', ct_baseline)\n",
    "    , ('logit', LogisticRegression(penalty = None))\n",
    "])"
   ]
  },
  {
   "cell_type": "code",
   "execution_count": 18,
   "metadata": {},
   "outputs": [
    {
     "data": {
      "text/plain": [
       "0.6809980657254358"
      ]
     },
     "execution_count": 18,
     "metadata": {},
     "output_type": "execute_result"
    }
   ],
   "source": [
    "from sklearn.model_selection import KFold, cross_val_score\n",
    "\n",
    "kf = KFold(n_splits = 5, shuffle = True, random_state = 1234)\n",
    "\n",
    "auc_baseline = cross_val_score(\n",
    "    pipeline_baseline\n",
    "    , X, y, cv = kf\n",
    "    , scoring = 'roc_auc'\n",
    ")\n",
    "auc_baseline.mean()"
   ]
  },
  {
   "cell_type": "code",
   "execution_count": 19,
   "metadata": {},
   "outputs": [
    {
     "name": "stderr",
     "output_type": "stream",
     "text": [
      "c:\\Users\\alire\\anaconda3\\envs\\devTEFE\\Lib\\site-packages\\huggingface_hub\\file_download.py:1132: FutureWarning: `resume_download` is deprecated and will be removed in version 1.0.0. Downloads always resume when possible. If you want to force a new download, use `force_download=True`.\n",
      "  warnings.warn(\n",
      "c:\\Users\\alire\\anaconda3\\envs\\devTEFE\\Lib\\site-packages\\sklearn\\linear_model\\_logistic.py:469: ConvergenceWarning: lbfgs failed to converge (status=1):\n",
      "STOP: TOTAL NO. of ITERATIONS REACHED LIMIT.\n",
      "\n",
      "Increase the number of iterations (max_iter) or scale the data as shown in:\n",
      "    https://scikit-learn.org/stable/modules/preprocessing.html\n",
      "Please also refer to the documentation for alternative solver options:\n",
      "    https://scikit-learn.org/stable/modules/linear_model.html#logistic-regression\n",
      "  n_iter_i = _check_optimize_result(\n",
      "c:\\Users\\alire\\anaconda3\\envs\\devTEFE\\Lib\\site-packages\\huggingface_hub\\file_download.py:1132: FutureWarning: `resume_download` is deprecated and will be removed in version 1.0.0. Downloads always resume when possible. If you want to force a new download, use `force_download=True`.\n",
      "  warnings.warn(\n",
      "c:\\Users\\alire\\anaconda3\\envs\\devTEFE\\Lib\\site-packages\\huggingface_hub\\file_download.py:1132: FutureWarning: `resume_download` is deprecated and will be removed in version 1.0.0. Downloads always resume when possible. If you want to force a new download, use `force_download=True`.\n",
      "  warnings.warn(\n",
      "c:\\Users\\alire\\anaconda3\\envs\\devTEFE\\Lib\\site-packages\\sklearn\\linear_model\\_logistic.py:469: ConvergenceWarning: lbfgs failed to converge (status=1):\n",
      "STOP: TOTAL NO. of ITERATIONS REACHED LIMIT.\n",
      "\n",
      "Increase the number of iterations (max_iter) or scale the data as shown in:\n",
      "    https://scikit-learn.org/stable/modules/preprocessing.html\n",
      "Please also refer to the documentation for alternative solver options:\n",
      "    https://scikit-learn.org/stable/modules/linear_model.html#logistic-regression\n",
      "  n_iter_i = _check_optimize_result(\n",
      "c:\\Users\\alire\\anaconda3\\envs\\devTEFE\\Lib\\site-packages\\huggingface_hub\\file_download.py:1132: FutureWarning: `resume_download` is deprecated and will be removed in version 1.0.0. Downloads always resume when possible. If you want to force a new download, use `force_download=True`.\n",
      "  warnings.warn(\n",
      "c:\\Users\\alire\\anaconda3\\envs\\devTEFE\\Lib\\site-packages\\huggingface_hub\\file_download.py:1132: FutureWarning: `resume_download` is deprecated and will be removed in version 1.0.0. Downloads always resume when possible. If you want to force a new download, use `force_download=True`.\n",
      "  warnings.warn(\n",
      "c:\\Users\\alire\\anaconda3\\envs\\devTEFE\\Lib\\site-packages\\sklearn\\linear_model\\_logistic.py:469: ConvergenceWarning: lbfgs failed to converge (status=1):\n",
      "STOP: TOTAL NO. of ITERATIONS REACHED LIMIT.\n",
      "\n",
      "Increase the number of iterations (max_iter) or scale the data as shown in:\n",
      "    https://scikit-learn.org/stable/modules/preprocessing.html\n",
      "Please also refer to the documentation for alternative solver options:\n",
      "    https://scikit-learn.org/stable/modules/linear_model.html#logistic-regression\n",
      "  n_iter_i = _check_optimize_result(\n",
      "c:\\Users\\alire\\anaconda3\\envs\\devTEFE\\Lib\\site-packages\\huggingface_hub\\file_download.py:1132: FutureWarning: `resume_download` is deprecated and will be removed in version 1.0.0. Downloads always resume when possible. If you want to force a new download, use `force_download=True`.\n",
      "  warnings.warn(\n",
      "c:\\Users\\alire\\anaconda3\\envs\\devTEFE\\Lib\\site-packages\\huggingface_hub\\file_download.py:1132: FutureWarning: `resume_download` is deprecated and will be removed in version 1.0.0. Downloads always resume when possible. If you want to force a new download, use `force_download=True`.\n",
      "  warnings.warn(\n",
      "c:\\Users\\alire\\anaconda3\\envs\\devTEFE\\Lib\\site-packages\\sklearn\\linear_model\\_logistic.py:469: ConvergenceWarning: lbfgs failed to converge (status=1):\n",
      "STOP: TOTAL NO. of ITERATIONS REACHED LIMIT.\n",
      "\n",
      "Increase the number of iterations (max_iter) or scale the data as shown in:\n",
      "    https://scikit-learn.org/stable/modules/preprocessing.html\n",
      "Please also refer to the documentation for alternative solver options:\n",
      "    https://scikit-learn.org/stable/modules/linear_model.html#logistic-regression\n",
      "  n_iter_i = _check_optimize_result(\n",
      "c:\\Users\\alire\\anaconda3\\envs\\devTEFE\\Lib\\site-packages\\huggingface_hub\\file_download.py:1132: FutureWarning: `resume_download` is deprecated and will be removed in version 1.0.0. Downloads always resume when possible. If you want to force a new download, use `force_download=True`.\n",
      "  warnings.warn(\n",
      "c:\\Users\\alire\\anaconda3\\envs\\devTEFE\\Lib\\site-packages\\huggingface_hub\\file_download.py:1132: FutureWarning: `resume_download` is deprecated and will be removed in version 1.0.0. Downloads always resume when possible. If you want to force a new download, use `force_download=True`.\n",
      "  warnings.warn(\n",
      "c:\\Users\\alire\\anaconda3\\envs\\devTEFE\\Lib\\site-packages\\sklearn\\linear_model\\_logistic.py:469: ConvergenceWarning: lbfgs failed to converge (status=1):\n",
      "STOP: TOTAL NO. of ITERATIONS REACHED LIMIT.\n",
      "\n",
      "Increase the number of iterations (max_iter) or scale the data as shown in:\n",
      "    https://scikit-learn.org/stable/modules/preprocessing.html\n",
      "Please also refer to the documentation for alternative solver options:\n",
      "    https://scikit-learn.org/stable/modules/linear_model.html#logistic-regression\n",
      "  n_iter_i = _check_optimize_result(\n",
      "c:\\Users\\alire\\anaconda3\\envs\\devTEFE\\Lib\\site-packages\\huggingface_hub\\file_download.py:1132: FutureWarning: `resume_download` is deprecated and will be removed in version 1.0.0. Downloads always resume when possible. If you want to force a new download, use `force_download=True`.\n",
      "  warnings.warn(\n"
     ]
    },
    {
     "data": {
      "text/plain": [
       "0.6733075114896849"
      ]
     },
     "execution_count": 19,
     "metadata": {},
     "output_type": "execute_result"
    }
   ],
   "source": [
    "trans_embed = TextColumnTransformer(\n",
    "    model_type = 'st'\n",
    ")\n",
    "trans_cluster = SphericalKMeans(n_clusters=10, n_init=5)\n",
    "ct_text = Pipeline([\n",
    "    ('embed', trans_embed)\n",
    "    , ('cluster', trans_cluster)\n",
    "])\n",
    "ct_tabullm = ColumnTransformer([\n",
    "    ('text', ct_text, features_text)\n",
    "], remainder = 'passthrough')\n",
    "pipeline_tabullm = Pipeline([\n",
    "    ('coltrans', ct_tabullm)\n",
    "    , ('logit', LogisticRegression(penalty = None))\n",
    "])\n",
    "\n",
    "auc_tabullm = cross_val_score(\n",
    "    pipeline_tabullm\n",
    "    , X, y, cv = kf\n",
    "    , scoring = 'roc_auc'\n",
    ")\n",
    "auc_tabullm.mean()"
   ]
  },
  {
   "cell_type": "code",
   "execution_count": 20,
   "metadata": {},
   "outputs": [
    {
     "name": "stderr",
     "output_type": "stream",
     "text": [
      "c:\\Users\\alire\\anaconda3\\envs\\devTEFE\\Lib\\site-packages\\huggingface_hub\\file_download.py:1132: FutureWarning: `resume_download` is deprecated and will be removed in version 1.0.0. Downloads always resume when possible. If you want to force a new download, use `force_download=True`.\n",
      "  warnings.warn(\n"
     ]
    },
    {
     "data": {
      "text/plain": [
       "array([[0.42094144, 0.5204149 , 0.49500299, ..., 0.53031623, 0.764132  ,\n",
       "        0.5529034 ],\n",
       "       [0.5890519 , 0.51804733, 0.4859802 , ..., 0.75263476, 0.67278415,\n",
       "        0.54293156],\n",
       "       [0.50199026, 0.5701773 , 0.49924445, ..., 0.43944168, 0.67252946,\n",
       "        0.5246769 ],\n",
       "       ...,\n",
       "       [0.88317037, 0.44940776, 0.4038371 , ..., 0.39154717, 0.46148455,\n",
       "        0.48783517],\n",
       "       [0.5378833 , 0.5223813 , 0.56443805, ..., 0.9075183 , 0.68682873,\n",
       "        0.6138319 ],\n",
       "       [0.6352277 , 0.5095983 , 0.6694881 , ..., 0.6113167 , 0.7752981 ,\n",
       "        0.7639202 ]], dtype=float32)"
      ]
     },
     "execution_count": 20,
     "metadata": {},
     "output_type": "execute_result"
    }
   ],
   "source": [
    "ct_text.fit_transform(X[features_text], y)"
   ]
  },
  {
   "cell_type": "code",
   "execution_count": null,
   "metadata": {},
   "outputs": [],
   "source": []
  }
 ],
 "metadata": {
  "kernelspec": {
   "display_name": "devTEFE",
   "language": "python",
   "name": "python3"
  },
  "language_info": {
   "codemirror_mode": {
    "name": "ipython",
    "version": 3
   },
   "file_extension": ".py",
   "mimetype": "text/x-python",
   "name": "python",
   "nbconvert_exporter": "python",
   "pygments_lexer": "ipython3",
   "version": "3.11.9"
  }
 },
 "nbformat": 4,
 "nbformat_minor": 2
}
