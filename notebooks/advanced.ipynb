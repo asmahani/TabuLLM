{
 "cells": [
  {
   "cell_type": "markdown",
   "metadata": {},
   "source": [
    "# Advanced Topics\n",
    "\n",
    "## Benefit of Cross-Fitting in `compress` Module"
   ]
  },
  {
   "cell_type": "code",
   "execution_count": 1,
   "metadata": {},
   "outputs": [
    {
     "name": "stderr",
     "output_type": "stream",
     "text": [
      "c:\\Users\\alire\\anaconda3\\envs\\devTEFE\\Lib\\site-packages\\sentence_transformers\\cross_encoder\\CrossEncoder.py:11: TqdmExperimentalWarning: Using `tqdm.autonotebook.tqdm` in notebook mode. Use `tqdm.tqdm` instead to force console mode (e.g. in jupyter console)\n",
      "  from tqdm.autonotebook import tqdm, trange\n"
     ]
    },
    {
     "name": "stdout",
     "output_type": "stream",
     "text": [
      "Shape of embeddings: (830, 768)\n"
     ]
    }
   ],
   "source": [
    "import pandas as pd\n",
    "from TabuLLM.embed import TextColumnTransformer\n",
    "\n",
    "import os\n",
    "from openai import OpenAI\n",
    "from dotenv import load_dotenv\n",
    "load_dotenv()\n",
    "openai_api_key = os.getenv('OPENAI_API_KEY')\n",
    "client = OpenAI(api_key=openai_api_key)\n",
    "google_project_id = os.getenv('VERTEXAI_PROJECT')\n",
    "google_location = os.getenv('VERTEXAI_LOCATION')\n",
    "\n",
    "openai_args = {\n",
    "    'client': client\n",
    "}\n",
    "google_args = {\n",
    "    'project_id': google_project_id,\n",
    "    'location': google_location\n",
    "}\n",
    "\n",
    "df = pd.read_csv('../data/raw.csv')\n",
    "\n",
    "#textCol = 'diagnoses'\n",
    "textCol = 'operations'\n",
    "\n",
    "embeddings = TextColumnTransformer(\n",
    "    #model_type = 'st'\n",
    "    #model_type = 'openai', openai_args = openai_args\n",
    "    model_type = 'google', google_args = google_args\n",
    ").fit_transform(df.loc[:, [textCol]])\n",
    "print(f'Shape of embeddings: {embeddings.shape}')\n",
    "\n",
    "features_baseline = ['is_female', 'age', 'height', 'weight', 'optime']\n",
    "features_embedding = [f'X_{i}' for i in range(embeddings.shape[1])]\n",
    "X = pd.concat([embeddings, df[features_baseline]], axis = 1)\n",
    "y = df['aki_severity']"
   ]
  },
  {
   "cell_type": "code",
   "execution_count": 2,
   "metadata": {},
   "outputs": [
    {
     "name": "stdout",
     "output_type": "stream",
     "text": [
      "Naive/Cross-fit AUC: 0.643/0.681\n",
      "Pearson correlation (p-value): 0.739 (1.767e-44)\n",
      "P-value of paired t-test: 6.320e-56\n"
     ]
    }
   ],
   "source": [
    "from TabuLLM.compress import CompressClassifier\n",
    "from sklearn.compose import ColumnTransformer\n",
    "from sklearn.linear_model import LogisticRegression\n",
    "from sklearn.pipeline import Pipeline\n",
    "\n",
    "ct_crossfit = ColumnTransformer([\n",
    "    ('baseline', 'passthrough', features_baseline)\n",
    "    , ('embedding', CompressClassifier(n_neighbors = 50, ncv=10), features_embedding)\n",
    "], remainder = 'drop')\n",
    "pipeline_crossfit = Pipeline([\n",
    "    ('coltrans', ct_crossfit)\n",
    "    , ('logit', LogisticRegression(penalty = None, solver = 'newton-cholesky', max_iter = 1000))\n",
    "])\n",
    "\n",
    "ct_naive = ColumnTransformer([\n",
    "    ('baseline', 'passthrough', features_baseline)\n",
    "    , ('embedding', CompressClassifier(n_neighbors = 50, ncv=0), features_embedding)\n",
    "], remainder = 'drop')\n",
    "pipeline_naive = Pipeline([\n",
    "    ('coltrans', ct_naive)\n",
    "    , ('logit', LogisticRegression(penalty = None, solver = 'newton-cholesky', max_iter = 1000))\n",
    "])\n",
    "\n",
    "from sklearn.model_selection import KFold, cross_val_score, RepeatedKFold\n",
    "\n",
    "#kf = KFold(n_splits = 50, shuffle = True, random_state = 4321)\n",
    "kf = RepeatedKFold(n_splits = 5, n_repeats = 50, random_state = 1111)\n",
    "\n",
    "auc_naive = cross_val_score(\n",
    "    pipeline_naive\n",
    "    , X, y, cv = kf\n",
    "    , scoring = 'roc_auc'\n",
    "    , n_jobs=10\n",
    ")\n",
    "auc_crossfit = cross_val_score(\n",
    "    pipeline_crossfit\n",
    "    , X, y, cv = kf\n",
    "    , scoring = 'roc_auc'\n",
    "    , n_jobs=10\n",
    ")\n",
    "print(f'Naive/Cross-fit AUC: {auc_naive.mean():.3f}/{auc_crossfit.mean():.3f}')\n",
    "\n",
    "# test the correlation between the two sets of AUCs\n",
    "from scipy.stats import pearsonr\n",
    "corrtest = pearsonr(auc_naive, auc_crossfit)\n",
    "print(f'Pearson correlation (p-value): {corrtest[0]:.3f} ({corrtest[1]:.3e})')\n",
    "\n",
    "# paired t-test\n",
    "from scipy.stats import ttest_rel\n",
    "ttest = ttest_rel(auc_naive, auc_crossfit)\n",
    "print(f'P-value of paired t-test: {ttest[1]:.3e}')"
   ]
  },
  {
   "cell_type": "markdown",
   "metadata": {},
   "source": [
    "## KNN+Cross-fit vs. Clustering"
   ]
  },
  {
   "cell_type": "code",
   "execution_count": 3,
   "metadata": {},
   "outputs": [
    {
     "name": "stdout",
     "output_type": "stream",
     "text": [
      "Shape of clusters_soft: (830, 10)\n",
      "Shape of clusters_hard: (830,)\n"
     ]
    }
   ],
   "source": [
    "from TabuLLM.cluster import SphericalKMeans\n",
    "\n",
    "skmeans = SphericalKMeans(n_clusters=10, n_init=100).fit(embeddings)\n",
    "clusters_soft = skmeans.transform(embeddings)\n",
    "clusters_hard = skmeans.predict(embeddings)\n",
    "print(f'Shape of clusters_soft: {clusters_soft.shape}')\n",
    "print(f'Shape of clusters_hard: {clusters_hard.shape}')"
   ]
  },
  {
   "cell_type": "code",
   "execution_count": 4,
   "metadata": {},
   "outputs": [],
   "source": [
    "varnames_cluster_soft = ['X' + str(n) for n in range(clusters_soft.shape[1])]\n",
    "varnames_baseline = ['is_female', 'age', 'height', 'weight', 'optime']\n",
    "dfCluster_soft = pd.DataFrame(clusters_soft, columns=varnames_cluster_soft)\n",
    "dfCombined_soft = pd.concat([df, dfCluster_soft], axis=1)\n",
    "X_soft = dfCombined_soft[varnames_baseline + varnames_cluster_soft]\n",
    "\n",
    "dfCluster_hard = pd.DataFrame(clusters_hard, columns=['cluster'])\n",
    "dfCombined_hard = pd.concat([df, dfCluster_hard], axis=1)\n",
    "X_hard = dfCombined_hard[varnames_baseline + ['cluster']]"
   ]
  },
  {
   "cell_type": "code",
   "execution_count": 5,
   "metadata": {},
   "outputs": [],
   "source": [
    "from sklearn.preprocessing import OneHotEncoder\n",
    "\n",
    "pipeline_soft = LogisticRegression(max_iter=10, solver = 'newton-cholesky', penalty=None)\n",
    "preprocessor = ColumnTransformer(\n",
    "    transformers=[\n",
    "        ('num', 'passthrough', varnames_baseline),\n",
    "        ('cat', OneHotEncoder(drop = 'first'), ['cluster'])\n",
    "    ]\n",
    "    , remainder='drop'\n",
    ")\n",
    "pipeline_hard = Pipeline(steps=[('preprocessor', preprocessor),\n",
    "                      ('classifier', LogisticRegression(max_iter=10, solver = 'newton-cholesky', penalty=None))])"
   ]
  },
  {
   "cell_type": "code",
   "execution_count": 6,
   "metadata": {},
   "outputs": [
    {
     "name": "stdout",
     "output_type": "stream",
     "text": [
      "Soft/Hard AUC: 0.686/0.692\n"
     ]
    }
   ],
   "source": [
    "auc_soft = cross_val_score(\n",
    "    pipeline_soft\n",
    "    , X_soft, y, cv = kf\n",
    "    , scoring = 'roc_auc'\n",
    "    , n_jobs=10\n",
    ")\n",
    "auc_hard = cross_val_score(\n",
    "    pipeline_hard\n",
    "    , X_hard, y, cv = kf\n",
    "    , scoring = 'roc_auc'\n",
    "    , n_jobs=10\n",
    ")\n",
    "print(f'Soft/Hard AUC: {auc_soft.mean():.3f}/{auc_hard.mean():.3f}')"
   ]
  },
  {
   "cell_type": "code",
   "execution_count": 7,
   "metadata": {},
   "outputs": [],
   "source": [
    "#pearsonr(auc_crossfit, auc_hard)"
   ]
  },
  {
   "cell_type": "code",
   "execution_count": null,
   "metadata": {},
   "outputs": [],
   "source": []
  }
 ],
 "metadata": {
  "kernelspec": {
   "display_name": "devTEFE",
   "language": "python",
   "name": "python3"
  },
  "language_info": {
   "codemirror_mode": {
    "name": "ipython",
    "version": 3
   },
   "file_extension": ".py",
   "mimetype": "text/x-python",
   "name": "python",
   "nbconvert_exporter": "python",
   "pygments_lexer": "ipython3",
   "version": "3.11.9"
  }
 },
 "nbformat": 4,
 "nbformat_minor": 2
}
