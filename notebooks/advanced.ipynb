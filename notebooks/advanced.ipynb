{
 "cells": [
  {
   "cell_type": "markdown",
   "metadata": {},
   "source": [
    "# Advanced Topics\n",
    "\n",
    "## Benefit of Cross-Fitting in `compress` Module"
   ]
  },
  {
   "cell_type": "code",
   "execution_count": 1,
   "metadata": {},
   "outputs": [
    {
     "name": "stderr",
     "output_type": "stream",
     "text": [
      "c:\\Users\\alire\\anaconda3\\envs\\devTEFE\\Lib\\site-packages\\sentence_transformers\\cross_encoder\\CrossEncoder.py:11: TqdmExperimentalWarning: Using `tqdm.autonotebook.tqdm` in notebook mode. Use `tqdm.tqdm` instead to force console mode (e.g. in jupyter console)\n",
      "  from tqdm.autonotebook import tqdm, trange\n",
      "c:\\Users\\alire\\anaconda3\\envs\\devTEFE\\Lib\\site-packages\\huggingface_hub\\file_download.py:1132: FutureWarning: `resume_download` is deprecated and will be removed in version 1.0.0. Downloads always resume when possible. If you want to force a new download, use `force_download=True`.\n",
      "  warnings.warn(\n"
     ]
    },
    {
     "name": "stdout",
     "output_type": "stream",
     "text": [
      "Shape of embeddings: (830, 384)\n"
     ]
    }
   ],
   "source": [
    "import pandas as pd\n",
    "from TabuLLM.embed import TextColumnTransformer\n",
    "df = pd.read_csv('../data/raw.csv')\n",
    "embeddings = TextColumnTransformer(\n",
    "    model_type = 'st'\n",
    ").fit_transform(df.loc[:, ['diagnoses']])\n",
    "print(f'Shape of embeddings: {embeddings.shape}')\n",
    "\n",
    "features_baseline = ['is_female', 'age', 'height', 'weight', 'optime']\n",
    "features_embedding = [f'X_{i}' for i in range(embeddings.shape[1])]\n",
    "X = pd.concat([embeddings, df[features_baseline]], axis = 1)\n",
    "y = df['aki_severity']"
   ]
  },
  {
   "cell_type": "code",
   "execution_count": 23,
   "metadata": {},
   "outputs": [
    {
     "name": "stdout",
     "output_type": "stream",
     "text": [
      "Naive/Cross-fit AUC: 0.635/0.682\n",
      "Pearson correlation (p-value): 0.665 (3.161e-65)\n",
      "P-value of paired t-test: 9.603e-67\n"
     ]
    }
   ],
   "source": [
    "from TabuLLM.compress import CompressClassifier\n",
    "from sklearn.compose import ColumnTransformer\n",
    "from sklearn.linear_model import LogisticRegression\n",
    "from sklearn.pipeline import Pipeline\n",
    "\n",
    "ct_crossfit = ColumnTransformer([\n",
    "    ('baseline', 'passthrough', features_baseline)\n",
    "    , ('embedding', CompressClassifier(n_neighbors = 50, ncv=5), features_embedding)\n",
    "], remainder = 'drop')\n",
    "pipeline_crossfit = Pipeline([\n",
    "    ('coltrans', ct_crossfit)\n",
    "    , ('logit', LogisticRegression(penalty = None, solver = 'newton-cholesky', max_iter = 1000))\n",
    "])\n",
    "\n",
    "ct_naive = ColumnTransformer([\n",
    "    ('baseline', 'passthrough', features_baseline)\n",
    "    , ('embedding', CompressClassifier(n_neighbors = 50, ncv=0), features_embedding)\n",
    "], remainder = 'drop')\n",
    "pipeline_naive = Pipeline([\n",
    "    ('coltrans', ct_naive)\n",
    "    , ('logit', LogisticRegression(penalty = None, solver = 'newton-cholesky', max_iter = 1000))\n",
    "])\n",
    "\n",
    "from sklearn.model_selection import KFold, cross_val_score, RepeatedKFold\n",
    "\n",
    "#kf = KFold(n_splits = 50, shuffle = True, random_state = 4321)\n",
    "kf = RepeatedKFold(n_splits = 10, n_repeats = 50, random_state = 4321)\n",
    "\n",
    "auc_naive = cross_val_score(\n",
    "    pipeline_naive\n",
    "    , X, y, cv = kf\n",
    "    , scoring = 'roc_auc'\n",
    "    , n_jobs=5\n",
    ")\n",
    "auc_crossfit = cross_val_score(\n",
    "    pipeline_crossfit\n",
    "    , X, y, cv = kf\n",
    "    , scoring = 'roc_auc'\n",
    "    , n_jobs=5\n",
    ")\n",
    "print(f'Naive/Cross-fit AUC: {auc_naive.mean():.3f}/{auc_crossfit.mean():.3f}')\n",
    "\n",
    "# test the correlation between the two sets of AUCs\n",
    "from scipy.stats import pearsonr\n",
    "corrtest = pearsonr(auc_naive, auc_crossfit)\n",
    "print(f'Pearson correlation (p-value): {corrtest[0]:.3f} ({corrtest[1]:.3e})')\n",
    "\n",
    "# paired t-test\n",
    "from scipy.stats import ttest_rel\n",
    "ttest = ttest_rel(auc_naive, auc_crossfit)\n",
    "print(f'P-value of paired t-test: {ttest[1]:.3e}')"
   ]
  },
  {
   "cell_type": "markdown",
   "metadata": {},
   "source": [
    "## KNN+Cross-fit vs. Clustering"
   ]
  },
  {
   "cell_type": "markdown",
   "metadata": {},
   "source": []
  }
 ],
 "metadata": {
  "kernelspec": {
   "display_name": "devTEFE",
   "language": "python",
   "name": "python3"
  },
  "language_info": {
   "codemirror_mode": {
    "name": "ipython",
    "version": 3
   },
   "file_extension": ".py",
   "mimetype": "text/x-python",
   "name": "python",
   "nbconvert_exporter": "python",
   "pygments_lexer": "ipython3",
   "version": "3.11.9"
  }
 },
 "nbformat": 4,
 "nbformat_minor": 2
}
