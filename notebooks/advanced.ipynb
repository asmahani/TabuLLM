{
 "cells": [
  {
   "cell_type": "markdown",
   "metadata": {},
   "source": [
    "# Advanced Topics\n",
    "\n",
    "## Benefit of Cross-Fitting in `compress` Module"
   ]
  },
  {
   "cell_type": "code",
   "execution_count": 1,
   "metadata": {},
   "outputs": [
    {
     "name": "stderr",
     "output_type": "stream",
     "text": [
      "c:\\Users\\alire\\anaconda3\\envs\\devTEFE\\Lib\\site-packages\\sentence_transformers\\cross_encoder\\CrossEncoder.py:11: TqdmExperimentalWarning: Using `tqdm.autonotebook.tqdm` in notebook mode. Use `tqdm.tqdm` instead to force console mode (e.g. in jupyter console)\n",
      "  from tqdm.autonotebook import tqdm, trange\n"
     ]
    },
    {
     "name": "stdout",
     "output_type": "stream",
     "text": [
      "Shape of embeddings: (830, 3072)\n"
     ]
    }
   ],
   "source": [
    "import pandas as pd\n",
    "from TabuLLM.embed import TextColumnTransformer\n",
    "\n",
    "import os\n",
    "from openai import OpenAI\n",
    "from dotenv import load_dotenv\n",
    "load_dotenv()\n",
    "openai_api_key = os.getenv('OPENAI_API_KEY')\n",
    "client = OpenAI(api_key=openai_api_key)\n",
    "google_project_id = os.getenv('VERTEXAI_PROJECT')\n",
    "google_location = os.getenv('VERTEXAI_LOCATION')\n",
    "\n",
    "openai_args = {\n",
    "    'client': client\n",
    "}\n",
    "google_args = {\n",
    "    'project_id': google_project_id,\n",
    "    'location': google_location\n",
    "}\n",
    "\n",
    "df = pd.read_csv('../data/raw.csv')\n",
    "\n",
    "#textCol = 'diagnoses'\n",
    "textCol = 'operations'\n",
    "\n",
    "embeddings = TextColumnTransformer(\n",
    "    #model_type = 'st'\n",
    "    model_type = 'openai', openai_args = openai_args\n",
    "    #model_type = 'google', google_args = google_args\n",
    ").fit_transform(df.loc[:, [textCol]])\n",
    "print(f'Shape of embeddings: {embeddings.shape}')\n",
    "\n",
    "features_baseline = ['is_female', 'age', 'height', 'weight', 'optime']\n",
    "features_embedding = [f'X_{i}' for i in range(embeddings.shape[1])]\n",
    "X = pd.concat([embeddings, df[features_baseline]], axis = 1)\n",
    "y = df['aki_severity']"
   ]
  },
  {
   "cell_type": "code",
   "execution_count": 2,
   "metadata": {},
   "outputs": [
    {
     "name": "stdout",
     "output_type": "stream",
     "text": [
      "Naive/Cross-fit AUC: 0.661/0.690\n",
      "Pearson correlation (p-value): 0.747 (7.885e-46)\n",
      "P-value of paired t-test: 1.083e-41\n"
     ]
    }
   ],
   "source": [
    "from TabuLLM.compress import CompressClassifier\n",
    "from sklearn.compose import ColumnTransformer\n",
    "from sklearn.linear_model import LogisticRegression\n",
    "from sklearn.pipeline import Pipeline\n",
    "\n",
    "ct_crossfit = ColumnTransformer([\n",
    "    ('baseline', 'passthrough', features_baseline)\n",
    "    , ('embedding', CompressClassifier(n_neighbors = 50, ncv=10), features_embedding)\n",
    "], remainder = 'drop')\n",
    "pipeline_crossfit = Pipeline([\n",
    "    ('coltrans', ct_crossfit)\n",
    "    , ('logit', LogisticRegression(penalty = None, solver = 'newton-cholesky', max_iter = 1000))\n",
    "])\n",
    "\n",
    "ct_naive = ColumnTransformer([\n",
    "    ('baseline', 'passthrough', features_baseline)\n",
    "    , ('embedding', CompressClassifier(n_neighbors = 50, ncv=0), features_embedding)\n",
    "], remainder = 'drop')\n",
    "pipeline_naive = Pipeline([\n",
    "    ('coltrans', ct_naive)\n",
    "    , ('logit', LogisticRegression(penalty = None, solver = 'newton-cholesky', max_iter = 1000))\n",
    "])\n",
    "\n",
    "from sklearn.model_selection import KFold, cross_val_score, RepeatedKFold\n",
    "\n",
    "#kf = KFold(n_splits = 50, shuffle = True, random_state = 4321)\n",
    "kf = RepeatedKFold(n_splits = 5, n_repeats = 50, random_state = 1111)\n",
    "\n",
    "auc_naive = cross_val_score(\n",
    "    pipeline_naive\n",
    "    , X, y, cv = kf\n",
    "    , scoring = 'roc_auc'\n",
    "    , n_jobs=10\n",
    ")\n",
    "auc_crossfit = cross_val_score(\n",
    "    pipeline_crossfit\n",
    "    , X, y, cv = kf\n",
    "    , scoring = 'roc_auc'\n",
    "    , n_jobs=10\n",
    ")\n",
    "print(f'Naive/Cross-fit AUC: {auc_naive.mean():.3f}/{auc_crossfit.mean():.3f}')\n",
    "\n",
    "# test the correlation between the two sets of AUCs\n",
    "from scipy.stats import pearsonr\n",
    "corrtest = pearsonr(auc_naive, auc_crossfit)\n",
    "print(f'Pearson correlation (p-value): {corrtest[0]:.3f} ({corrtest[1]:.3e})')\n",
    "\n",
    "# paired t-test\n",
    "from scipy.stats import ttest_rel\n",
    "ttest = ttest_rel(auc_naive, auc_crossfit)\n",
    "print(f'P-value of paired t-test: {ttest[1]:.3e}')"
   ]
  },
  {
   "cell_type": "markdown",
   "metadata": {},
   "source": [
    "## KNN+Cross-fit vs. Clustering"
   ]
  },
  {
   "cell_type": "code",
   "execution_count": 3,
   "metadata": {},
   "outputs": [
    {
     "name": "stdout",
     "output_type": "stream",
     "text": [
      "Shape of clusters_soft: (830, 10)\n",
      "Shape of clusters_hard: (830,)\n"
     ]
    }
   ],
   "source": [
    "from TabuLLM.cluster import SphericalKMeans\n",
    "\n",
    "skmeans = SphericalKMeans(n_clusters=10, n_init=100).fit(embeddings)\n",
    "clusters_soft = skmeans.transform(embeddings)\n",
    "clusters_hard = skmeans.predict(embeddings)\n",
    "print(f'Shape of clusters_soft: {clusters_soft.shape}')\n",
    "print(f'Shape of clusters_hard: {clusters_hard.shape}')"
   ]
  },
  {
   "cell_type": "code",
   "execution_count": 4,
   "metadata": {},
   "outputs": [],
   "source": [
    "varnames_cluster_soft = ['X' + str(n) for n in range(clusters_soft.shape[1])]\n",
    "varnames_baseline = ['is_female', 'age', 'height', 'weight', 'optime']\n",
    "dfCluster_soft = pd.DataFrame(clusters_soft, columns=varnames_cluster_soft)\n",
    "dfCombined_soft = pd.concat([df, dfCluster_soft], axis=1)\n",
    "X_soft = dfCombined_soft[varnames_baseline + varnames_cluster_soft]\n",
    "\n",
    "dfCluster_hard = pd.DataFrame(clusters_hard, columns=['cluster'])\n",
    "dfCombined_hard = pd.concat([df, dfCluster_hard], axis=1)\n",
    "X_hard = dfCombined_hard[varnames_baseline + ['cluster']]"
   ]
  },
  {
   "cell_type": "code",
   "execution_count": 5,
   "metadata": {},
   "outputs": [],
   "source": [
    "from sklearn.preprocessing import OneHotEncoder\n",
    "\n",
    "pipeline_soft = LogisticRegression(max_iter=10, solver = 'newton-cholesky', penalty=None)\n",
    "preprocessor = ColumnTransformer(\n",
    "    transformers=[\n",
    "        ('num', 'passthrough', varnames_baseline),\n",
    "        ('cat', OneHotEncoder(drop = 'first'), ['cluster'])\n",
    "    ]\n",
    "    , remainder='drop'\n",
    ")\n",
    "pipeline_hard = Pipeline(steps=[('preprocessor', preprocessor),\n",
    "                      ('classifier', LogisticRegression(max_iter=10, solver = 'newton-cholesky', penalty=None))])"
   ]
  },
  {
   "cell_type": "code",
   "execution_count": 6,
   "metadata": {},
   "outputs": [
    {
     "name": "stdout",
     "output_type": "stream",
     "text": [
      "Soft/Hard AUC: 0.709/0.714\n"
     ]
    }
   ],
   "source": [
    "auc_soft = cross_val_score(\n",
    "    pipeline_soft\n",
    "    , X_soft, y, cv = kf\n",
    "    , scoring = 'roc_auc'\n",
    "    , n_jobs=10\n",
    ")\n",
    "auc_hard = cross_val_score(\n",
    "    pipeline_hard\n",
    "    , X_hard, y, cv = kf\n",
    "    , scoring = 'roc_auc'\n",
    "    , n_jobs=10\n",
    ")\n",
    "print(f'Soft/Hard AUC: {auc_soft.mean():.3f}/{auc_hard.mean():.3f}')"
   ]
  },
  {
   "cell_type": "code",
   "execution_count": 7,
   "metadata": {},
   "outputs": [],
   "source": [
    "#pearsonr(auc_crossfit, auc_hard)"
   ]
  },
  {
   "cell_type": "code",
   "execution_count": 12,
   "metadata": {},
   "outputs": [
    {
     "name": "stdout",
     "output_type": "stream",
     "text": [
      "[0.57678346 0.16431861 0.08219219 0.0469406  0.04502442 0.03451438\n",
      " 0.02511895 0.01093988 0.00982741 0.0043401 ]\n",
      "[0.57678346 0.74110207 0.82329426 0.87023485 0.91525927 0.94977366\n",
      " 0.9748926  0.98583248 0.9956599  1.        ]\n"
     ]
    }
   ],
   "source": [
    "# apply PCA to X_soft\n",
    "from sklearn.decomposition import PCA\n",
    "pca = PCA(n_components = 10)\n",
    "pca.fit(clusters_soft)\n",
    "# examine eigenvalues\n",
    "print(pca.explained_variance_ratio_)\n",
    "# cumsum of above\n",
    "print(pca.explained_variance_ratio_.cumsum())"
   ]
  },
  {
   "cell_type": "code",
   "execution_count": 20,
   "metadata": {},
   "outputs": [
    {
     "name": "stdout",
     "output_type": "stream",
     "text": [
      "Soft PCA AUC: 0.709\n"
     ]
    }
   ],
   "source": [
    "preprocessor_soft_pca = ColumnTransformer(\n",
    "    transformers=[\n",
    "        ('pass', 'passthrough', varnames_baseline),\n",
    "        ('pca', PCA(n_components=10), varnames_cluster_soft)\n",
    "    ]\n",
    "    , remainder='drop'\n",
    ")\n",
    "pipeline_soft_pca = Pipeline(steps=[('preprocessor', preprocessor_soft_pca),\n",
    "                      ('classifier', LogisticRegression(max_iter=10, solver = 'newton-cholesky', penalty=None))])\n",
    "auc_soft_pca = cross_val_score(\n",
    "    pipeline_soft_pca\n",
    "    , X_soft, y, cv = kf\n",
    "    , scoring = 'roc_auc'\n",
    "    , n_jobs=10\n",
    ")\n",
    "print(f'Soft PCA AUC: {auc_soft_pca.mean():.3f}')"
   ]
  },
  {
   "cell_type": "code",
   "execution_count": 31,
   "metadata": {},
   "outputs": [
    {
     "name": "stdout",
     "output_type": "stream",
     "text": [
      "Hard PCA AUC: 0.664\n"
     ]
    }
   ],
   "source": [
    "preprocessor_hard_pca = ColumnTransformer(\n",
    "    transformers=[\n",
    "        ('pass', 'passthrough', varnames_baseline),\n",
    "        ('pca', Pipeline(steps = [('onehot', OneHotEncoder(drop = 'first')), ('pca', PCA(n_components = 6, svd_solver='arpack'))]), ['cluster'])\n",
    "    ]\n",
    "    , remainder='drop'\n",
    ")\n",
    "pipeline_hard_pca = Pipeline(steps=[('preprocessor', preprocessor_hard_pca),\n",
    "                      ('classifier', LogisticRegression(max_iter=10, solver = 'newton-cholesky', penalty=None))])\n",
    "auc_hard_pca = cross_val_score(\n",
    "    pipeline_hard_pca\n",
    "    , X_hard, y, cv = kf\n",
    "    , scoring = 'roc_auc'\n",
    "    , n_jobs=10\n",
    ")\n",
    "print(f'Hard PCA AUC: {auc_hard_pca.mean():.3f}')"
   ]
  },
  {
   "cell_type": "code",
   "execution_count": 49,
   "metadata": {},
   "outputs": [
    {
     "name": "stdout",
     "output_type": "stream",
     "text": [
      "Soft PCA AUC - v2: 0.713\n"
     ]
    }
   ],
   "source": [
    "pipeline_soft_pca_v2 = Pipeline(steps=[('pca', PCA(n_components=13)),\n",
    "                      ('classifier', LogisticRegression(max_iter=10, solver = 'newton-cholesky', penalty=None))])\n",
    "auc_soft_pca_v2 = cross_val_score(\n",
    "    pipeline_soft_pca_v2\n",
    "    , X_soft, y, cv = kf\n",
    "    , scoring = 'roc_auc'\n",
    "    , n_jobs=10\n",
    ")\n",
    "print(f'Soft PCA AUC - v2: {auc_soft_pca_v2.mean():.3f}')"
   ]
  },
  {
   "cell_type": "code",
   "execution_count": 54,
   "metadata": {},
   "outputs": [
    {
     "name": "stdout",
     "output_type": "stream",
     "text": [
      "Hard PCA AUC - v2: 0.668\n"
     ]
    }
   ],
   "source": [
    "preprocessor_hard_pca_v2 = ColumnTransformer(\n",
    "    transformers=[\n",
    "        ('pass', 'passthrough', varnames_baseline),\n",
    "        ('cat', OneHotEncoder(drop = 'first'), ['cluster'])\n",
    "    ]\n",
    "    , remainder='drop'\n",
    ")\n",
    "pipeline_hard_pca_v2 = Pipeline(steps=[\n",
    "    ('preprocessor', preprocessor_hard_pca_v2)\n",
    "    , ('pca', PCA(n_components=10))\n",
    "    , ('classifier', LogisticRegression(max_iter=10, solver = 'newton-cholesky', penalty=None))\n",
    "    ])\n",
    "auc_hard_pca_v2 = cross_val_score(\n",
    "    pipeline_hard_pca_v2\n",
    "    , X_hard, y, cv = kf\n",
    "    , scoring = 'roc_auc'\n",
    "    , n_jobs=10\n",
    ")\n",
    "print(f'Hard PCA AUC - v2: {auc_hard_pca_v2.mean():.3f}')"
   ]
  },
  {
   "cell_type": "code",
   "execution_count": 39,
   "metadata": {},
   "outputs": [
    {
     "data": {
      "text/plain": [
       "15"
      ]
     },
     "execution_count": 39,
     "metadata": {},
     "output_type": "execute_result"
    }
   ],
   "source": [
    "X_soft.shape[1]"
   ]
  },
  {
   "cell_type": "code",
   "execution_count": 50,
   "metadata": {},
   "outputs": [
    {
     "data": {
      "text/html": [
       "<div>\n",
       "<style scoped>\n",
       "    .dataframe tbody tr th:only-of-type {\n",
       "        vertical-align: middle;\n",
       "    }\n",
       "\n",
       "    .dataframe tbody tr th {\n",
       "        vertical-align: top;\n",
       "    }\n",
       "\n",
       "    .dataframe thead th {\n",
       "        text-align: right;\n",
       "    }\n",
       "</style>\n",
       "<table border=\"1\" class=\"dataframe\">\n",
       "  <thead>\n",
       "    <tr style=\"text-align: right;\">\n",
       "      <th></th>\n",
       "      <th>is_female</th>\n",
       "      <th>age</th>\n",
       "      <th>height</th>\n",
       "      <th>weight</th>\n",
       "      <th>optime</th>\n",
       "      <th>cluster</th>\n",
       "    </tr>\n",
       "  </thead>\n",
       "  <tbody>\n",
       "    <tr>\n",
       "      <th>0</th>\n",
       "      <td>1</td>\n",
       "      <td>18.11</td>\n",
       "      <td>148</td>\n",
       "      <td>80.9</td>\n",
       "      <td>112</td>\n",
       "      <td>0</td>\n",
       "    </tr>\n",
       "    <tr>\n",
       "      <th>1</th>\n",
       "      <td>1</td>\n",
       "      <td>18.23</td>\n",
       "      <td>169</td>\n",
       "      <td>56.1</td>\n",
       "      <td>144</td>\n",
       "      <td>9</td>\n",
       "    </tr>\n",
       "    <tr>\n",
       "      <th>2</th>\n",
       "      <td>1</td>\n",
       "      <td>16.86</td>\n",
       "      <td>166</td>\n",
       "      <td>61.6</td>\n",
       "      <td>114</td>\n",
       "      <td>0</td>\n",
       "    </tr>\n",
       "    <tr>\n",
       "      <th>3</th>\n",
       "      <td>1</td>\n",
       "      <td>16.88</td>\n",
       "      <td>162</td>\n",
       "      <td>44.3</td>\n",
       "      <td>109</td>\n",
       "      <td>2</td>\n",
       "    </tr>\n",
       "    <tr>\n",
       "      <th>4</th>\n",
       "      <td>0</td>\n",
       "      <td>18.12</td>\n",
       "      <td>175</td>\n",
       "      <td>70.5</td>\n",
       "      <td>119</td>\n",
       "      <td>0</td>\n",
       "    </tr>\n",
       "  </tbody>\n",
       "</table>\n",
       "</div>"
      ],
      "text/plain": [
       "   is_female    age  height  weight  optime  cluster\n",
       "0          1  18.11     148    80.9     112        0\n",
       "1          1  18.23     169    56.1     144        9\n",
       "2          1  16.86     166    61.6     114        0\n",
       "3          1  16.88     162    44.3     109        2\n",
       "4          0  18.12     175    70.5     119        0"
      ]
     },
     "execution_count": 50,
     "metadata": {},
     "output_type": "execute_result"
    }
   ],
   "source": [
    "X_hard.head()"
   ]
  },
  {
   "cell_type": "code",
   "execution_count": null,
   "metadata": {},
   "outputs": [],
   "source": []
  }
 ],
 "metadata": {
  "kernelspec": {
   "display_name": "devTEFE",
   "language": "python",
   "name": "python3"
  },
  "language_info": {
   "codemirror_mode": {
    "name": "ipython",
    "version": 3
   },
   "file_extension": ".py",
   "mimetype": "text/x-python",
   "name": "python",
   "nbconvert_exporter": "python",
   "pygments_lexer": "ipython3",
   "version": "3.11.9"
  }
 },
 "nbformat": 4,
 "nbformat_minor": 2
}
